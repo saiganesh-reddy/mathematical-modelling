{
 "cells": [
  {
   "cell_type": "code",
   "execution_count": 4,
   "id": "6e2937ae",
   "metadata": {},
   "outputs": [],
   "source": [
    "import pandas as pd \n",
    "from matplotlib import pyplot as plt\n",
    "import numpy as np\n",
    "from bokeh.plotting import figure, output_notebook, show\n",
    "from scipy.integrate import odeint"
   ]
  },
  {
   "cell_type": "code",
   "execution_count": 5,
   "id": "e36ce8ff",
   "metadata": {},
   "outputs": [
    {
     "data": {
      "text/html": [
       "<div>\n",
       "<style scoped>\n",
       "    .dataframe tbody tr th:only-of-type {\n",
       "        vertical-align: middle;\n",
       "    }\n",
       "\n",
       "    .dataframe tbody tr th {\n",
       "        vertical-align: top;\n",
       "    }\n",
       "\n",
       "    .dataframe thead th {\n",
       "        text-align: right;\n",
       "    }\n",
       "</style>\n",
       "<table border=\"1\" class=\"dataframe\">\n",
       "  <thead>\n",
       "    <tr style=\"text-align: right;\">\n",
       "      <th></th>\n",
       "      <th>Date_reported</th>\n",
       "      <th>Country_code</th>\n",
       "      <th>Country</th>\n",
       "      <th>WHO_region</th>\n",
       "      <th>New_cases</th>\n",
       "      <th>Cumulative_cases</th>\n",
       "      <th>New_deaths</th>\n",
       "      <th>Cumulative_deaths</th>\n",
       "    </tr>\n",
       "  </thead>\n",
       "  <tbody>\n",
       "    <tr>\n",
       "      <th>0</th>\n",
       "      <td>1/3/2020</td>\n",
       "      <td>PH</td>\n",
       "      <td>Philippines</td>\n",
       "      <td>WPRO</td>\n",
       "      <td>0</td>\n",
       "      <td>0</td>\n",
       "      <td>0</td>\n",
       "      <td>0</td>\n",
       "    </tr>\n",
       "    <tr>\n",
       "      <th>1</th>\n",
       "      <td>1/4/2020</td>\n",
       "      <td>PH</td>\n",
       "      <td>Philippines</td>\n",
       "      <td>WPRO</td>\n",
       "      <td>0</td>\n",
       "      <td>0</td>\n",
       "      <td>0</td>\n",
       "      <td>0</td>\n",
       "    </tr>\n",
       "    <tr>\n",
       "      <th>2</th>\n",
       "      <td>1/5/2020</td>\n",
       "      <td>PH</td>\n",
       "      <td>Philippines</td>\n",
       "      <td>WPRO</td>\n",
       "      <td>0</td>\n",
       "      <td>0</td>\n",
       "      <td>0</td>\n",
       "      <td>0</td>\n",
       "    </tr>\n",
       "    <tr>\n",
       "      <th>3</th>\n",
       "      <td>1/6/2020</td>\n",
       "      <td>PH</td>\n",
       "      <td>Philippines</td>\n",
       "      <td>WPRO</td>\n",
       "      <td>0</td>\n",
       "      <td>0</td>\n",
       "      <td>0</td>\n",
       "      <td>0</td>\n",
       "    </tr>\n",
       "    <tr>\n",
       "      <th>4</th>\n",
       "      <td>1/7/2020</td>\n",
       "      <td>PH</td>\n",
       "      <td>Philippines</td>\n",
       "      <td>WPRO</td>\n",
       "      <td>0</td>\n",
       "      <td>0</td>\n",
       "      <td>0</td>\n",
       "      <td>0</td>\n",
       "    </tr>\n",
       "    <tr>\n",
       "      <th>...</th>\n",
       "      <td>...</td>\n",
       "      <td>...</td>\n",
       "      <td>...</td>\n",
       "      <td>...</td>\n",
       "      <td>...</td>\n",
       "      <td>...</td>\n",
       "      <td>...</td>\n",
       "      <td>...</td>\n",
       "    </tr>\n",
       "    <tr>\n",
       "      <th>622</th>\n",
       "      <td>9/16/2021</td>\n",
       "      <td>PH</td>\n",
       "      <td>Philippines</td>\n",
       "      <td>WPRO</td>\n",
       "      <td>16909</td>\n",
       "      <td>2282931</td>\n",
       "      <td>213</td>\n",
       "      <td>35742</td>\n",
       "    </tr>\n",
       "    <tr>\n",
       "      <th>623</th>\n",
       "      <td>9/17/2021</td>\n",
       "      <td>PH</td>\n",
       "      <td>Philippines</td>\n",
       "      <td>WPRO</td>\n",
       "      <td>21208</td>\n",
       "      <td>2304139</td>\n",
       "      <td>276</td>\n",
       "      <td>36018</td>\n",
       "    </tr>\n",
       "    <tr>\n",
       "      <th>624</th>\n",
       "      <td>9/18/2021</td>\n",
       "      <td>PH</td>\n",
       "      <td>Philippines</td>\n",
       "      <td>WPRO</td>\n",
       "      <td>20277</td>\n",
       "      <td>2324416</td>\n",
       "      <td>310</td>\n",
       "      <td>36328</td>\n",
       "    </tr>\n",
       "    <tr>\n",
       "      <th>625</th>\n",
       "      <td>9/19/2021</td>\n",
       "      <td>PH</td>\n",
       "      <td>Philippines</td>\n",
       "      <td>WPRO</td>\n",
       "      <td>23062</td>\n",
       "      <td>2347478</td>\n",
       "      <td>255</td>\n",
       "      <td>36583</td>\n",
       "    </tr>\n",
       "    <tr>\n",
       "      <th>626</th>\n",
       "      <td>9/20/2021</td>\n",
       "      <td>PH</td>\n",
       "      <td>Philippines</td>\n",
       "      <td>WPRO</td>\n",
       "      <td>19271</td>\n",
       "      <td>2366749</td>\n",
       "      <td>205</td>\n",
       "      <td>36788</td>\n",
       "    </tr>\n",
       "  </tbody>\n",
       "</table>\n",
       "<p>627 rows × 8 columns</p>\n",
       "</div>"
      ],
      "text/plain": [
       "    Date_reported Country_code      Country WHO_region  New_cases  \\\n",
       "0        1/3/2020           PH  Philippines       WPRO          0   \n",
       "1        1/4/2020           PH  Philippines       WPRO          0   \n",
       "2        1/5/2020           PH  Philippines       WPRO          0   \n",
       "3        1/6/2020           PH  Philippines       WPRO          0   \n",
       "4        1/7/2020           PH  Philippines       WPRO          0   \n",
       "..            ...          ...          ...        ...        ...   \n",
       "622     9/16/2021           PH  Philippines       WPRO      16909   \n",
       "623     9/17/2021           PH  Philippines       WPRO      21208   \n",
       "624     9/18/2021           PH  Philippines       WPRO      20277   \n",
       "625     9/19/2021           PH  Philippines       WPRO      23062   \n",
       "626     9/20/2021           PH  Philippines       WPRO      19271   \n",
       "\n",
       "     Cumulative_cases  New_deaths  Cumulative_deaths  \n",
       "0                   0           0                  0  \n",
       "1                   0           0                  0  \n",
       "2                   0           0                  0  \n",
       "3                   0           0                  0  \n",
       "4                   0           0                  0  \n",
       "..                ...         ...                ...  \n",
       "622           2282931         213              35742  \n",
       "623           2304139         276              36018  \n",
       "624           2324416         310              36328  \n",
       "625           2347478         255              36583  \n",
       "626           2366749         205              36788  \n",
       "\n",
       "[627 rows x 8 columns]"
      ]
     },
     "execution_count": 5,
     "metadata": {},
     "output_type": "execute_result"
    }
   ],
   "source": [
    "Philippines_MM = pd.read_csv(r'Philippines_MM.csv')\n",
    "Afghanistan_MM = pd.read_csv(r'Afghanistan_MM.csv')\n",
    "Venezuela_MM = pd.read_csv(r'Venezuela_MM.csv')\n",
    "Philippines_MM"
   ]
  },
  {
   "cell_type": "code",
   "execution_count": 6,
   "id": "8bfc7f25",
   "metadata": {},
   "outputs": [
    {
     "data": {
      "text/html": [
       "<div>\n",
       "<style scoped>\n",
       "    .dataframe tbody tr th:only-of-type {\n",
       "        vertical-align: middle;\n",
       "    }\n",
       "\n",
       "    .dataframe tbody tr th {\n",
       "        vertical-align: top;\n",
       "    }\n",
       "\n",
       "    .dataframe thead th {\n",
       "        text-align: right;\n",
       "    }\n",
       "</style>\n",
       "<table border=\"1\" class=\"dataframe\">\n",
       "  <thead>\n",
       "    <tr style=\"text-align: right;\">\n",
       "      <th></th>\n",
       "      <th>Date_reported</th>\n",
       "      <th>Country_code</th>\n",
       "      <th>Country</th>\n",
       "      <th>WHO_region</th>\n",
       "      <th>New_cases</th>\n",
       "      <th>Cumulative_cases</th>\n",
       "      <th>New_deaths</th>\n",
       "      <th>Cumulative_deaths</th>\n",
       "    </tr>\n",
       "  </thead>\n",
       "  <tbody>\n",
       "    <tr>\n",
       "      <th>0</th>\n",
       "      <td>1/3/2020</td>\n",
       "      <td>AF</td>\n",
       "      <td>Afghanistan</td>\n",
       "      <td>EMRO</td>\n",
       "      <td>0</td>\n",
       "      <td>0</td>\n",
       "      <td>0</td>\n",
       "      <td>0</td>\n",
       "    </tr>\n",
       "    <tr>\n",
       "      <th>1</th>\n",
       "      <td>1/4/2020</td>\n",
       "      <td>AF</td>\n",
       "      <td>Afghanistan</td>\n",
       "      <td>EMRO</td>\n",
       "      <td>0</td>\n",
       "      <td>0</td>\n",
       "      <td>0</td>\n",
       "      <td>0</td>\n",
       "    </tr>\n",
       "    <tr>\n",
       "      <th>2</th>\n",
       "      <td>1/5/2020</td>\n",
       "      <td>AF</td>\n",
       "      <td>Afghanistan</td>\n",
       "      <td>EMRO</td>\n",
       "      <td>0</td>\n",
       "      <td>0</td>\n",
       "      <td>0</td>\n",
       "      <td>0</td>\n",
       "    </tr>\n",
       "    <tr>\n",
       "      <th>3</th>\n",
       "      <td>1/6/2020</td>\n",
       "      <td>AF</td>\n",
       "      <td>Afghanistan</td>\n",
       "      <td>EMRO</td>\n",
       "      <td>0</td>\n",
       "      <td>0</td>\n",
       "      <td>0</td>\n",
       "      <td>0</td>\n",
       "    </tr>\n",
       "    <tr>\n",
       "      <th>4</th>\n",
       "      <td>1/7/2020</td>\n",
       "      <td>AF</td>\n",
       "      <td>Afghanistan</td>\n",
       "      <td>EMRO</td>\n",
       "      <td>0</td>\n",
       "      <td>0</td>\n",
       "      <td>0</td>\n",
       "      <td>0</td>\n",
       "    </tr>\n",
       "    <tr>\n",
       "      <th>...</th>\n",
       "      <td>...</td>\n",
       "      <td>...</td>\n",
       "      <td>...</td>\n",
       "      <td>...</td>\n",
       "      <td>...</td>\n",
       "      <td>...</td>\n",
       "      <td>...</td>\n",
       "      <td>...</td>\n",
       "    </tr>\n",
       "    <tr>\n",
       "      <th>622</th>\n",
       "      <td>9/16/2021</td>\n",
       "      <td>AF</td>\n",
       "      <td>Afghanistan</td>\n",
       "      <td>EMRO</td>\n",
       "      <td>78</td>\n",
       "      <td>154361</td>\n",
       "      <td>9</td>\n",
       "      <td>7183</td>\n",
       "    </tr>\n",
       "    <tr>\n",
       "      <th>623</th>\n",
       "      <td>9/17/2021</td>\n",
       "      <td>AF</td>\n",
       "      <td>Afghanistan</td>\n",
       "      <td>EMRO</td>\n",
       "      <td>126</td>\n",
       "      <td>154487</td>\n",
       "      <td>3</td>\n",
       "      <td>7186</td>\n",
       "    </tr>\n",
       "    <tr>\n",
       "      <th>624</th>\n",
       "      <td>9/18/2021</td>\n",
       "      <td>AF</td>\n",
       "      <td>Afghanistan</td>\n",
       "      <td>EMRO</td>\n",
       "      <td>45</td>\n",
       "      <td>154532</td>\n",
       "      <td>9</td>\n",
       "      <td>7195</td>\n",
       "    </tr>\n",
       "    <tr>\n",
       "      <th>625</th>\n",
       "      <td>9/19/2021</td>\n",
       "      <td>AF</td>\n",
       "      <td>Afghanistan</td>\n",
       "      <td>EMRO</td>\n",
       "      <td>7</td>\n",
       "      <td>154539</td>\n",
       "      <td>4</td>\n",
       "      <td>7199</td>\n",
       "    </tr>\n",
       "    <tr>\n",
       "      <th>626</th>\n",
       "      <td>9/20/2021</td>\n",
       "      <td>AF</td>\n",
       "      <td>Afghanistan</td>\n",
       "      <td>EMRO</td>\n",
       "      <td>46</td>\n",
       "      <td>154585</td>\n",
       "      <td>0</td>\n",
       "      <td>7199</td>\n",
       "    </tr>\n",
       "  </tbody>\n",
       "</table>\n",
       "<p>627 rows × 8 columns</p>\n",
       "</div>"
      ],
      "text/plain": [
       "    Date_reported Country_code      Country WHO_region  New_cases  \\\n",
       "0        1/3/2020           AF  Afghanistan       EMRO          0   \n",
       "1        1/4/2020           AF  Afghanistan       EMRO          0   \n",
       "2        1/5/2020           AF  Afghanistan       EMRO          0   \n",
       "3        1/6/2020           AF  Afghanistan       EMRO          0   \n",
       "4        1/7/2020           AF  Afghanistan       EMRO          0   \n",
       "..            ...          ...          ...        ...        ...   \n",
       "622     9/16/2021           AF  Afghanistan       EMRO         78   \n",
       "623     9/17/2021           AF  Afghanistan       EMRO        126   \n",
       "624     9/18/2021           AF  Afghanistan       EMRO         45   \n",
       "625     9/19/2021           AF  Afghanistan       EMRO          7   \n",
       "626     9/20/2021           AF  Afghanistan       EMRO         46   \n",
       "\n",
       "     Cumulative_cases  New_deaths  Cumulative_deaths  \n",
       "0                   0           0                  0  \n",
       "1                   0           0                  0  \n",
       "2                   0           0                  0  \n",
       "3                   0           0                  0  \n",
       "4                   0           0                  0  \n",
       "..                ...         ...                ...  \n",
       "622            154361           9               7183  \n",
       "623            154487           3               7186  \n",
       "624            154532           9               7195  \n",
       "625            154539           4               7199  \n",
       "626            154585           0               7199  \n",
       "\n",
       "[627 rows x 8 columns]"
      ]
     },
     "execution_count": 6,
     "metadata": {},
     "output_type": "execute_result"
    }
   ],
   "source": [
    "Afghanistan_MM"
   ]
  },
  {
   "cell_type": "code",
   "execution_count": 7,
   "id": "4b2d8c4d",
   "metadata": {},
   "outputs": [
    {
     "data": {
      "text/html": [
       "<div>\n",
       "<style scoped>\n",
       "    .dataframe tbody tr th:only-of-type {\n",
       "        vertical-align: middle;\n",
       "    }\n",
       "\n",
       "    .dataframe tbody tr th {\n",
       "        vertical-align: top;\n",
       "    }\n",
       "\n",
       "    .dataframe thead th {\n",
       "        text-align: right;\n",
       "    }\n",
       "</style>\n",
       "<table border=\"1\" class=\"dataframe\">\n",
       "  <thead>\n",
       "    <tr style=\"text-align: right;\">\n",
       "      <th></th>\n",
       "      <th>Date_reported</th>\n",
       "      <th>Country_code</th>\n",
       "      <th>Country</th>\n",
       "      <th>WHO_region</th>\n",
       "      <th>New_cases</th>\n",
       "      <th>Cumulative_cases</th>\n",
       "      <th>New_deaths</th>\n",
       "      <th>Cumulative_deaths</th>\n",
       "    </tr>\n",
       "  </thead>\n",
       "  <tbody>\n",
       "    <tr>\n",
       "      <th>0</th>\n",
       "      <td>1/3/2020</td>\n",
       "      <td>VE</td>\n",
       "      <td>Venezuela (Bolivarian Republic of)</td>\n",
       "      <td>AMRO</td>\n",
       "      <td>0</td>\n",
       "      <td>0</td>\n",
       "      <td>0</td>\n",
       "      <td>0</td>\n",
       "    </tr>\n",
       "    <tr>\n",
       "      <th>1</th>\n",
       "      <td>1/4/2020</td>\n",
       "      <td>VE</td>\n",
       "      <td>Venezuela (Bolivarian Republic of)</td>\n",
       "      <td>AMRO</td>\n",
       "      <td>0</td>\n",
       "      <td>0</td>\n",
       "      <td>0</td>\n",
       "      <td>0</td>\n",
       "    </tr>\n",
       "    <tr>\n",
       "      <th>2</th>\n",
       "      <td>1/5/2020</td>\n",
       "      <td>VE</td>\n",
       "      <td>Venezuela (Bolivarian Republic of)</td>\n",
       "      <td>AMRO</td>\n",
       "      <td>0</td>\n",
       "      <td>0</td>\n",
       "      <td>0</td>\n",
       "      <td>0</td>\n",
       "    </tr>\n",
       "    <tr>\n",
       "      <th>3</th>\n",
       "      <td>1/6/2020</td>\n",
       "      <td>VE</td>\n",
       "      <td>Venezuela (Bolivarian Republic of)</td>\n",
       "      <td>AMRO</td>\n",
       "      <td>0</td>\n",
       "      <td>0</td>\n",
       "      <td>0</td>\n",
       "      <td>0</td>\n",
       "    </tr>\n",
       "    <tr>\n",
       "      <th>4</th>\n",
       "      <td>1/7/2020</td>\n",
       "      <td>VE</td>\n",
       "      <td>Venezuela (Bolivarian Republic of)</td>\n",
       "      <td>AMRO</td>\n",
       "      <td>0</td>\n",
       "      <td>0</td>\n",
       "      <td>0</td>\n",
       "      <td>0</td>\n",
       "    </tr>\n",
       "    <tr>\n",
       "      <th>...</th>\n",
       "      <td>...</td>\n",
       "      <td>...</td>\n",
       "      <td>...</td>\n",
       "      <td>...</td>\n",
       "      <td>...</td>\n",
       "      <td>...</td>\n",
       "      <td>...</td>\n",
       "      <td>...</td>\n",
       "    </tr>\n",
       "    <tr>\n",
       "      <th>622</th>\n",
       "      <td>9/16/2021</td>\n",
       "      <td>VE</td>\n",
       "      <td>Venezuela (Bolivarian Republic of)</td>\n",
       "      <td>AMRO</td>\n",
       "      <td>858</td>\n",
       "      <td>349731</td>\n",
       "      <td>14</td>\n",
       "      <td>4228</td>\n",
       "    </tr>\n",
       "    <tr>\n",
       "      <th>623</th>\n",
       "      <td>9/17/2021</td>\n",
       "      <td>VE</td>\n",
       "      <td>Venezuela (Bolivarian Republic of)</td>\n",
       "      <td>AMRO</td>\n",
       "      <td>1064</td>\n",
       "      <td>350795</td>\n",
       "      <td>17</td>\n",
       "      <td>4245</td>\n",
       "    </tr>\n",
       "    <tr>\n",
       "      <th>624</th>\n",
       "      <td>9/18/2021</td>\n",
       "      <td>VE</td>\n",
       "      <td>Venezuela (Bolivarian Republic of)</td>\n",
       "      <td>AMRO</td>\n",
       "      <td>1260</td>\n",
       "      <td>352055</td>\n",
       "      <td>16</td>\n",
       "      <td>4261</td>\n",
       "    </tr>\n",
       "    <tr>\n",
       "      <th>625</th>\n",
       "      <td>9/19/2021</td>\n",
       "      <td>VE</td>\n",
       "      <td>Venezuela (Bolivarian Republic of)</td>\n",
       "      <td>AMRO</td>\n",
       "      <td>1346</td>\n",
       "      <td>353401</td>\n",
       "      <td>14</td>\n",
       "      <td>4275</td>\n",
       "    </tr>\n",
       "    <tr>\n",
       "      <th>626</th>\n",
       "      <td>9/20/2021</td>\n",
       "      <td>VE</td>\n",
       "      <td>Venezuela (Bolivarian Republic of)</td>\n",
       "      <td>AMRO</td>\n",
       "      <td>838</td>\n",
       "      <td>354239</td>\n",
       "      <td>16</td>\n",
       "      <td>4291</td>\n",
       "    </tr>\n",
       "  </tbody>\n",
       "</table>\n",
       "<p>627 rows × 8 columns</p>\n",
       "</div>"
      ],
      "text/plain": [
       "    Date_reported Country_code                             Country WHO_region  \\\n",
       "0        1/3/2020           VE  Venezuela (Bolivarian Republic of)       AMRO   \n",
       "1        1/4/2020           VE  Venezuela (Bolivarian Republic of)       AMRO   \n",
       "2        1/5/2020           VE  Venezuela (Bolivarian Republic of)       AMRO   \n",
       "3        1/6/2020           VE  Venezuela (Bolivarian Republic of)       AMRO   \n",
       "4        1/7/2020           VE  Venezuela (Bolivarian Republic of)       AMRO   \n",
       "..            ...          ...                                 ...        ...   \n",
       "622     9/16/2021           VE  Venezuela (Bolivarian Republic of)       AMRO   \n",
       "623     9/17/2021           VE  Venezuela (Bolivarian Republic of)       AMRO   \n",
       "624     9/18/2021           VE  Venezuela (Bolivarian Republic of)       AMRO   \n",
       "625     9/19/2021           VE  Venezuela (Bolivarian Republic of)       AMRO   \n",
       "626     9/20/2021           VE  Venezuela (Bolivarian Republic of)       AMRO   \n",
       "\n",
       "     New_cases  Cumulative_cases  New_deaths  Cumulative_deaths  \n",
       "0            0                 0           0                  0  \n",
       "1            0                 0           0                  0  \n",
       "2            0                 0           0                  0  \n",
       "3            0                 0           0                  0  \n",
       "4            0                 0           0                  0  \n",
       "..         ...               ...         ...                ...  \n",
       "622        858            349731          14               4228  \n",
       "623       1064            350795          17               4245  \n",
       "624       1260            352055          16               4261  \n",
       "625       1346            353401          14               4275  \n",
       "626        838            354239          16               4291  \n",
       "\n",
       "[627 rows x 8 columns]"
      ]
     },
     "execution_count": 7,
     "metadata": {},
     "output_type": "execute_result"
    }
   ],
   "source": [
    "Venezuela_MM"
   ]
  },
  {
   "cell_type": "code",
   "execution_count": 8,
   "id": "f047c172",
   "metadata": {},
   "outputs": [],
   "source": [
    "Philippines_MM_scaled = Philippines_MM['Cumulative_cases']/84167090\n",
    "Afghanistan_MM_scaled = Afghanistan_MM['Cumulative_cases']/10351401\n",
    "Venezuela_MM_scaled = Venezuela_MM['Cumulative_cases']/125929581\n",
    "Philippines_MM_scaled = pd.DataFrame(Philippines_MM_scaled)\n",
    "Afghanistan_MM_scaled = pd.DataFrame(Afghanistan_MM_scaled)\n",
    "Venezuela_MM_scaled = pd.DataFrame(Venezuela_MM_scaled)"
   ]
  },
  {
   "cell_type": "code",
   "execution_count": 9,
   "id": "e4a38583",
   "metadata": {},
   "outputs": [
    {
     "data": {
      "text/html": [
       "<div>\n",
       "<style scoped>\n",
       "    .dataframe tbody tr th:only-of-type {\n",
       "        vertical-align: middle;\n",
       "    }\n",
       "\n",
       "    .dataframe tbody tr th {\n",
       "        vertical-align: top;\n",
       "    }\n",
       "\n",
       "    .dataframe thead th {\n",
       "        text-align: right;\n",
       "    }\n",
       "</style>\n",
       "<table border=\"1\" class=\"dataframe\">\n",
       "  <thead>\n",
       "    <tr style=\"text-align: right;\">\n",
       "      <th></th>\n",
       "      <th>Date_reported</th>\n",
       "      <th>Philippines_CC</th>\n",
       "      <th>Afghanistan_CC</th>\n",
       "      <th>Venezuela_CC</th>\n",
       "      <th>Days</th>\n",
       "    </tr>\n",
       "  </thead>\n",
       "  <tbody>\n",
       "    <tr>\n",
       "      <th>100</th>\n",
       "      <td>4/12/2020</td>\n",
       "      <td>0.000053</td>\n",
       "      <td>0.000054</td>\n",
       "      <td>0.000001</td>\n",
       "      <td>101</td>\n",
       "    </tr>\n",
       "    <tr>\n",
       "      <th>101</th>\n",
       "      <td>4/13/2020</td>\n",
       "      <td>0.000055</td>\n",
       "      <td>0.000059</td>\n",
       "      <td>0.000001</td>\n",
       "      <td>102</td>\n",
       "    </tr>\n",
       "    <tr>\n",
       "      <th>102</th>\n",
       "      <td>4/14/2020</td>\n",
       "      <td>0.000059</td>\n",
       "      <td>0.000064</td>\n",
       "      <td>0.000001</td>\n",
       "      <td>103</td>\n",
       "    </tr>\n",
       "    <tr>\n",
       "      <th>103</th>\n",
       "      <td>4/15/2020</td>\n",
       "      <td>0.000062</td>\n",
       "      <td>0.000074</td>\n",
       "      <td>0.000001</td>\n",
       "      <td>104</td>\n",
       "    </tr>\n",
       "    <tr>\n",
       "      <th>104</th>\n",
       "      <td>4/16/2020</td>\n",
       "      <td>0.000065</td>\n",
       "      <td>0.000077</td>\n",
       "      <td>0.000002</td>\n",
       "      <td>105</td>\n",
       "    </tr>\n",
       "    <tr>\n",
       "      <th>...</th>\n",
       "      <td>...</td>\n",
       "      <td>...</td>\n",
       "      <td>...</td>\n",
       "      <td>...</td>\n",
       "      <td>...</td>\n",
       "    </tr>\n",
       "    <tr>\n",
       "      <th>622</th>\n",
       "      <td>9/16/2021</td>\n",
       "      <td>0.027124</td>\n",
       "      <td>0.014912</td>\n",
       "      <td>0.002777</td>\n",
       "      <td>623</td>\n",
       "    </tr>\n",
       "    <tr>\n",
       "      <th>623</th>\n",
       "      <td>9/17/2021</td>\n",
       "      <td>0.027376</td>\n",
       "      <td>0.014924</td>\n",
       "      <td>0.002786</td>\n",
       "      <td>624</td>\n",
       "    </tr>\n",
       "    <tr>\n",
       "      <th>624</th>\n",
       "      <td>9/18/2021</td>\n",
       "      <td>0.027617</td>\n",
       "      <td>0.014929</td>\n",
       "      <td>0.002796</td>\n",
       "      <td>625</td>\n",
       "    </tr>\n",
       "    <tr>\n",
       "      <th>625</th>\n",
       "      <td>9/19/2021</td>\n",
       "      <td>0.027891</td>\n",
       "      <td>0.014929</td>\n",
       "      <td>0.002806</td>\n",
       "      <td>626</td>\n",
       "    </tr>\n",
       "    <tr>\n",
       "      <th>626</th>\n",
       "      <td>9/20/2021</td>\n",
       "      <td>0.028120</td>\n",
       "      <td>0.014934</td>\n",
       "      <td>0.002813</td>\n",
       "      <td>627</td>\n",
       "    </tr>\n",
       "  </tbody>\n",
       "</table>\n",
       "<p>527 rows × 5 columns</p>\n",
       "</div>"
      ],
      "text/plain": [
       "    Date_reported  Philippines_CC  Afghanistan_CC  Venezuela_CC  Days\n",
       "100     4/12/2020        0.000053        0.000054      0.000001   101\n",
       "101     4/13/2020        0.000055        0.000059      0.000001   102\n",
       "102     4/14/2020        0.000059        0.000064      0.000001   103\n",
       "103     4/15/2020        0.000062        0.000074      0.000001   104\n",
       "104     4/16/2020        0.000065        0.000077      0.000002   105\n",
       "..            ...             ...             ...           ...   ...\n",
       "622     9/16/2021        0.027124        0.014912      0.002777   623\n",
       "623     9/17/2021        0.027376        0.014924      0.002786   624\n",
       "624     9/18/2021        0.027617        0.014929      0.002796   625\n",
       "625     9/19/2021        0.027891        0.014929      0.002806   626\n",
       "626     9/20/2021        0.028120        0.014934      0.002813   627\n",
       "\n",
       "[527 rows x 5 columns]"
      ]
     },
     "execution_count": 9,
     "metadata": {},
     "output_type": "execute_result"
    }
   ],
   "source": [
    "Philippines_MM = pd.concat([Philippines_MM['Date_reported'], Philippines_MM_scaled], axis=1)\n",
    "Philippines_MM.rename(columns = {'Cumulative_cases':'Philippines_CC'}, inplace = True)\n",
    "Afghanistan_MM = pd.concat([Afghanistan_MM['Date_reported'], Afghanistan_MM_scaled], axis=1)\n",
    "Afghanistan_MM.rename(columns = {'Cumulative_cases':'Afghanistan_CC'}, inplace = True)\n",
    "Afghanistan_MM_1 = Afghanistan_MM.drop(['Date_reported'], axis = 1)\n",
    "Venezuela_MM = pd.concat([Venezuela_MM['Date_reported'], Venezuela_MM_scaled], axis=1)\n",
    "Venezuela_MM.rename(columns = {'Cumulative_cases':'Venezuela_CC'}, inplace = True)\n",
    "Venezuela_MM_1=Venezuela_MM.drop(['Date_reported'], axis = 1)\n",
    "Cumulative_cases_3C = pd.concat([Philippines_MM,Afghanistan_MM_1,Venezuela_MM_1], axis=1)\n",
    "Cumulative_cases_3C=pd.DataFrame(Cumulative_cases_3C)\n",
    "Cumulative_cases_3C = Cumulative_cases_3C.assign(Days=lambda x: x.index+1)\n",
    "Cumulative_cases_3C = Cumulative_cases_3C.loc[Cumulative_cases_3C['Days'] > 100]\n",
    "Cumulative_cases_3C"
   ]
  },
  {
   "cell_type": "code",
   "execution_count": 10,
   "id": "e04eda7c",
   "metadata": {},
   "outputs": [
    {
     "name": "stderr",
     "output_type": "stream",
     "text": [
      "BokehDeprecationWarning: 'legend' keyword is deprecated, use explicit 'legend_label', 'legend_field', or 'legend_group' keywords instead\n",
      "BokehDeprecationWarning: 'legend' keyword is deprecated, use explicit 'legend_label', 'legend_field', or 'legend_group' keywords instead\n",
      "BokehDeprecationWarning: 'legend' keyword is deprecated, use explicit 'legend_label', 'legend_field', or 'legend_group' keywords instead\n"
     ]
    }
   ],
   "source": [
    "fig = figure(plot_width=600,plot_height=400)\n",
    "fig.line(Cumulative_cases_3C['Days'], Cumulative_cases_3C['Philippines_CC'], legend=\"Philippines\", line_color=\"orange\")\n",
    "fig.line(Cumulative_cases_3C['Days'], Cumulative_cases_3C['Afghanistan_CC'], legend=\"Afghanistan\", line_color=\"purple\")\n",
    "fig.line(Cumulative_cases_3C['Days'], Cumulative_cases_3C['Venezuela_CC'], legend=\"Venezuela\", line_color=\"red\")\n",
    "fig.legend.location = 'top_left'\n",
    "fig.xaxis.axis_label = \"Days From Begining\"\n",
    "fig.yaxis.axis_label = \"Normalised Cumulative Cases\"\n",
    "show(fig)"
   ]
  },
  {
   "cell_type": "code",
   "execution_count": 11,
   "id": "b5fdf96e",
   "metadata": {
    "scrolled": true
   },
   "outputs": [
    {
     "data": {
      "text/html": [
       "<div>\n",
       "<style scoped>\n",
       "    .dataframe tbody tr th:only-of-type {\n",
       "        vertical-align: middle;\n",
       "    }\n",
       "\n",
       "    .dataframe tbody tr th {\n",
       "        vertical-align: top;\n",
       "    }\n",
       "\n",
       "    .dataframe thead th {\n",
       "        text-align: right;\n",
       "    }\n",
       "</style>\n",
       "<table border=\"1\" class=\"dataframe\">\n",
       "  <thead>\n",
       "    <tr style=\"text-align: right;\">\n",
       "      <th></th>\n",
       "      <th>Date_reported</th>\n",
       "      <th>Philippines_CC</th>\n",
       "      <th>Afghanistan_CC</th>\n",
       "      <th>Venezuela_CC</th>\n",
       "      <th>Days</th>\n",
       "      <th>Philippines_CC_log</th>\n",
       "      <th>Afghanistan_CC_log</th>\n",
       "      <th>Venezuela_CC_log</th>\n",
       "    </tr>\n",
       "  </thead>\n",
       "  <tbody>\n",
       "    <tr>\n",
       "      <th>100</th>\n",
       "      <td>4/12/2020</td>\n",
       "      <td>0.000053</td>\n",
       "      <td>0.000054</td>\n",
       "      <td>0.000001</td>\n",
       "      <td>101</td>\n",
       "      <td>-9.852611</td>\n",
       "      <td>-9.833664</td>\n",
       "      <td>-13.509570</td>\n",
       "    </tr>\n",
       "    <tr>\n",
       "      <th>101</th>\n",
       "      <td>4/13/2020</td>\n",
       "      <td>0.000055</td>\n",
       "      <td>0.000059</td>\n",
       "      <td>0.000001</td>\n",
       "      <td>102</td>\n",
       "      <td>-9.804122</td>\n",
       "      <td>-9.744104</td>\n",
       "      <td>-13.509570</td>\n",
       "    </tr>\n",
       "    <tr>\n",
       "      <th>102</th>\n",
       "      <td>4/14/2020</td>\n",
       "      <td>0.000059</td>\n",
       "      <td>0.000064</td>\n",
       "      <td>0.000001</td>\n",
       "      <td>103</td>\n",
       "      <td>-9.744815</td>\n",
       "      <td>-9.652845</td>\n",
       "      <td>-13.452736</td>\n",
       "    </tr>\n",
       "    <tr>\n",
       "      <th>103</th>\n",
       "      <td>4/15/2020</td>\n",
       "      <td>0.000062</td>\n",
       "      <td>0.000074</td>\n",
       "      <td>0.000001</td>\n",
       "      <td>104</td>\n",
       "      <td>-9.687487</td>\n",
       "      <td>-9.506242</td>\n",
       "      <td>-13.452736</td>\n",
       "    </tr>\n",
       "    <tr>\n",
       "      <th>104</th>\n",
       "      <td>4/16/2020</td>\n",
       "      <td>0.000065</td>\n",
       "      <td>0.000077</td>\n",
       "      <td>0.000002</td>\n",
       "      <td>105</td>\n",
       "      <td>-9.644393</td>\n",
       "      <td>-9.475549</td>\n",
       "      <td>-13.388543</td>\n",
       "    </tr>\n",
       "    <tr>\n",
       "      <th>...</th>\n",
       "      <td>...</td>\n",
       "      <td>...</td>\n",
       "      <td>...</td>\n",
       "      <td>...</td>\n",
       "      <td>...</td>\n",
       "      <td>...</td>\n",
       "      <td>...</td>\n",
       "      <td>...</td>\n",
       "    </tr>\n",
       "    <tr>\n",
       "      <th>622</th>\n",
       "      <td>9/16/2021</td>\n",
       "      <td>0.027124</td>\n",
       "      <td>0.014912</td>\n",
       "      <td>0.002777</td>\n",
       "      <td>623</td>\n",
       "      <td>-3.607344</td>\n",
       "      <td>-4.205583</td>\n",
       "      <td>-5.886314</td>\n",
       "    </tr>\n",
       "    <tr>\n",
       "      <th>623</th>\n",
       "      <td>9/17/2021</td>\n",
       "      <td>0.027376</td>\n",
       "      <td>0.014924</td>\n",
       "      <td>0.002786</td>\n",
       "      <td>624</td>\n",
       "      <td>-3.598097</td>\n",
       "      <td>-4.204767</td>\n",
       "      <td>-5.883276</td>\n",
       "    </tr>\n",
       "    <tr>\n",
       "      <th>624</th>\n",
       "      <td>9/18/2021</td>\n",
       "      <td>0.027617</td>\n",
       "      <td>0.014929</td>\n",
       "      <td>0.002796</td>\n",
       "      <td>625</td>\n",
       "      <td>-3.589335</td>\n",
       "      <td>-4.204476</td>\n",
       "      <td>-5.879691</td>\n",
       "    </tr>\n",
       "    <tr>\n",
       "      <th>625</th>\n",
       "      <td>9/19/2021</td>\n",
       "      <td>0.027891</td>\n",
       "      <td>0.014929</td>\n",
       "      <td>0.002806</td>\n",
       "      <td>626</td>\n",
       "      <td>-3.579462</td>\n",
       "      <td>-4.204431</td>\n",
       "      <td>-5.875875</td>\n",
       "    </tr>\n",
       "    <tr>\n",
       "      <th>626</th>\n",
       "      <td>9/20/2021</td>\n",
       "      <td>0.028120</td>\n",
       "      <td>0.014934</td>\n",
       "      <td>0.002813</td>\n",
       "      <td>627</td>\n",
       "      <td>-3.571287</td>\n",
       "      <td>-4.204133</td>\n",
       "      <td>-5.873506</td>\n",
       "    </tr>\n",
       "  </tbody>\n",
       "</table>\n",
       "<p>527 rows × 8 columns</p>\n",
       "</div>"
      ],
      "text/plain": [
       "    Date_reported  Philippines_CC  Afghanistan_CC  Venezuela_CC  Days  \\\n",
       "100     4/12/2020        0.000053        0.000054      0.000001   101   \n",
       "101     4/13/2020        0.000055        0.000059      0.000001   102   \n",
       "102     4/14/2020        0.000059        0.000064      0.000001   103   \n",
       "103     4/15/2020        0.000062        0.000074      0.000001   104   \n",
       "104     4/16/2020        0.000065        0.000077      0.000002   105   \n",
       "..            ...             ...             ...           ...   ...   \n",
       "622     9/16/2021        0.027124        0.014912      0.002777   623   \n",
       "623     9/17/2021        0.027376        0.014924      0.002786   624   \n",
       "624     9/18/2021        0.027617        0.014929      0.002796   625   \n",
       "625     9/19/2021        0.027891        0.014929      0.002806   626   \n",
       "626     9/20/2021        0.028120        0.014934      0.002813   627   \n",
       "\n",
       "     Philippines_CC_log  Afghanistan_CC_log  Venezuela_CC_log  \n",
       "100           -9.852611           -9.833664        -13.509570  \n",
       "101           -9.804122           -9.744104        -13.509570  \n",
       "102           -9.744815           -9.652845        -13.452736  \n",
       "103           -9.687487           -9.506242        -13.452736  \n",
       "104           -9.644393           -9.475549        -13.388543  \n",
       "..                  ...                 ...               ...  \n",
       "622           -3.607344           -4.205583         -5.886314  \n",
       "623           -3.598097           -4.204767         -5.883276  \n",
       "624           -3.589335           -4.204476         -5.879691  \n",
       "625           -3.579462           -4.204431         -5.875875  \n",
       "626           -3.571287           -4.204133         -5.873506  \n",
       "\n",
       "[527 rows x 8 columns]"
      ]
     },
     "execution_count": 11,
     "metadata": {},
     "output_type": "execute_result"
    }
   ],
   "source": [
    "Cumulative_cases_3C['Philippines_CC_log'] = np.log(Cumulative_cases_3C['Philippines_CC'])\n",
    "Cumulative_cases_3C['Afghanistan_CC_log'] = np.log(Cumulative_cases_3C['Afghanistan_CC'])\n",
    "Cumulative_cases_3C['Venezuela_CC_log'] = np.log(Cumulative_cases_3C['Venezuela_CC'])\n",
    "Cumulative_cases_3C"
   ]
  },
  {
   "cell_type": "code",
   "execution_count": 12,
   "id": "d4d55391",
   "metadata": {},
   "outputs": [
    {
     "data": {
      "text/html": [
       "\n",
       "    <div class=\"bk-root\">\n",
       "        <a href=\"https://bokeh.org\" target=\"_blank\" class=\"bk-logo bk-logo-small bk-logo-notebook\"></a>\n",
       "        <span id=\"1242\">Loading BokehJS ...</span>\n",
       "    </div>"
      ]
     },
     "metadata": {},
     "output_type": "display_data"
    },
    {
     "data": {
      "application/javascript": [
       "\n",
       "(function(root) {\n",
       "  function now() {\n",
       "    return new Date();\n",
       "  }\n",
       "\n",
       "  var force = true;\n",
       "\n",
       "  if (typeof root._bokeh_onload_callbacks === \"undefined\" || force === true) {\n",
       "    root._bokeh_onload_callbacks = [];\n",
       "    root._bokeh_is_loading = undefined;\n",
       "  }\n",
       "\n",
       "  var JS_MIME_TYPE = 'application/javascript';\n",
       "  var HTML_MIME_TYPE = 'text/html';\n",
       "  var EXEC_MIME_TYPE = 'application/vnd.bokehjs_exec.v0+json';\n",
       "  var CLASS_NAME = 'output_bokeh rendered_html';\n",
       "\n",
       "  /**\n",
       "   * Render data to the DOM node\n",
       "   */\n",
       "  function render(props, node) {\n",
       "    var script = document.createElement(\"script\");\n",
       "    node.appendChild(script);\n",
       "  }\n",
       "\n",
       "  /**\n",
       "   * Handle when an output is cleared or removed\n",
       "   */\n",
       "  function handleClearOutput(event, handle) {\n",
       "    var cell = handle.cell;\n",
       "\n",
       "    var id = cell.output_area._bokeh_element_id;\n",
       "    var server_id = cell.output_area._bokeh_server_id;\n",
       "    // Clean up Bokeh references\n",
       "    if (id != null && id in Bokeh.index) {\n",
       "      Bokeh.index[id].model.document.clear();\n",
       "      delete Bokeh.index[id];\n",
       "    }\n",
       "\n",
       "    if (server_id !== undefined) {\n",
       "      // Clean up Bokeh references\n",
       "      var cmd = \"from bokeh.io.state import curstate; print(curstate().uuid_to_server['\" + server_id + \"'].get_sessions()[0].document.roots[0]._id)\";\n",
       "      cell.notebook.kernel.execute(cmd, {\n",
       "        iopub: {\n",
       "          output: function(msg) {\n",
       "            var id = msg.content.text.trim();\n",
       "            if (id in Bokeh.index) {\n",
       "              Bokeh.index[id].model.document.clear();\n",
       "              delete Bokeh.index[id];\n",
       "            }\n",
       "          }\n",
       "        }\n",
       "      });\n",
       "      // Destroy server and session\n",
       "      var cmd = \"import bokeh.io.notebook as ion; ion.destroy_server('\" + server_id + \"')\";\n",
       "      cell.notebook.kernel.execute(cmd);\n",
       "    }\n",
       "  }\n",
       "\n",
       "  /**\n",
       "   * Handle when a new output is added\n",
       "   */\n",
       "  function handleAddOutput(event, handle) {\n",
       "    var output_area = handle.output_area;\n",
       "    var output = handle.output;\n",
       "\n",
       "    // limit handleAddOutput to display_data with EXEC_MIME_TYPE content only\n",
       "    if ((output.output_type != \"display_data\") || (!Object.prototype.hasOwnProperty.call(output.data, EXEC_MIME_TYPE))) {\n",
       "      return\n",
       "    }\n",
       "\n",
       "    var toinsert = output_area.element.find(\".\" + CLASS_NAME.split(' ')[0]);\n",
       "\n",
       "    if (output.metadata[EXEC_MIME_TYPE][\"id\"] !== undefined) {\n",
       "      toinsert[toinsert.length - 1].firstChild.textContent = output.data[JS_MIME_TYPE];\n",
       "      // store reference to embed id on output_area\n",
       "      output_area._bokeh_element_id = output.metadata[EXEC_MIME_TYPE][\"id\"];\n",
       "    }\n",
       "    if (output.metadata[EXEC_MIME_TYPE][\"server_id\"] !== undefined) {\n",
       "      var bk_div = document.createElement(\"div\");\n",
       "      bk_div.innerHTML = output.data[HTML_MIME_TYPE];\n",
       "      var script_attrs = bk_div.children[0].attributes;\n",
       "      for (var i = 0; i < script_attrs.length; i++) {\n",
       "        toinsert[toinsert.length - 1].firstChild.setAttribute(script_attrs[i].name, script_attrs[i].value);\n",
       "        toinsert[toinsert.length - 1].firstChild.textContent = bk_div.children[0].textContent\n",
       "      }\n",
       "      // store reference to server id on output_area\n",
       "      output_area._bokeh_server_id = output.metadata[EXEC_MIME_TYPE][\"server_id\"];\n",
       "    }\n",
       "  }\n",
       "\n",
       "  function register_renderer(events, OutputArea) {\n",
       "\n",
       "    function append_mime(data, metadata, element) {\n",
       "      // create a DOM node to render to\n",
       "      var toinsert = this.create_output_subarea(\n",
       "        metadata,\n",
       "        CLASS_NAME,\n",
       "        EXEC_MIME_TYPE\n",
       "      );\n",
       "      this.keyboard_manager.register_events(toinsert);\n",
       "      // Render to node\n",
       "      var props = {data: data, metadata: metadata[EXEC_MIME_TYPE]};\n",
       "      render(props, toinsert[toinsert.length - 1]);\n",
       "      element.append(toinsert);\n",
       "      return toinsert\n",
       "    }\n",
       "\n",
       "    /* Handle when an output is cleared or removed */\n",
       "    events.on('clear_output.CodeCell', handleClearOutput);\n",
       "    events.on('delete.Cell', handleClearOutput);\n",
       "\n",
       "    /* Handle when a new output is added */\n",
       "    events.on('output_added.OutputArea', handleAddOutput);\n",
       "\n",
       "    /**\n",
       "     * Register the mime type and append_mime function with output_area\n",
       "     */\n",
       "    OutputArea.prototype.register_mime_type(EXEC_MIME_TYPE, append_mime, {\n",
       "      /* Is output safe? */\n",
       "      safe: true,\n",
       "      /* Index of renderer in `output_area.display_order` */\n",
       "      index: 0\n",
       "    });\n",
       "  }\n",
       "\n",
       "  // register the mime type if in Jupyter Notebook environment and previously unregistered\n",
       "  if (root.Jupyter !== undefined) {\n",
       "    var events = require('base/js/events');\n",
       "    var OutputArea = require('notebook/js/outputarea').OutputArea;\n",
       "\n",
       "    if (OutputArea.prototype.mime_types().indexOf(EXEC_MIME_TYPE) == -1) {\n",
       "      register_renderer(events, OutputArea);\n",
       "    }\n",
       "  }\n",
       "\n",
       "  \n",
       "  if (typeof (root._bokeh_timeout) === \"undefined\" || force === true) {\n",
       "    root._bokeh_timeout = Date.now() + 5000;\n",
       "    root._bokeh_failed_load = false;\n",
       "  }\n",
       "\n",
       "  var NB_LOAD_WARNING = {'data': {'text/html':\n",
       "     \"<div style='background-color: #fdd'>\\n\"+\n",
       "     \"<p>\\n\"+\n",
       "     \"BokehJS does not appear to have successfully loaded. If loading BokehJS from CDN, this \\n\"+\n",
       "     \"may be due to a slow or bad network connection. Possible fixes:\\n\"+\n",
       "     \"</p>\\n\"+\n",
       "     \"<ul>\\n\"+\n",
       "     \"<li>re-rerun `output_notebook()` to attempt to load from CDN again, or</li>\\n\"+\n",
       "     \"<li>use INLINE resources instead, as so:</li>\\n\"+\n",
       "     \"</ul>\\n\"+\n",
       "     \"<code>\\n\"+\n",
       "     \"from bokeh.resources import INLINE\\n\"+\n",
       "     \"output_notebook(resources=INLINE)\\n\"+\n",
       "     \"</code>\\n\"+\n",
       "     \"</div>\"}};\n",
       "\n",
       "  function display_loaded() {\n",
       "    var el = document.getElementById(\"1242\");\n",
       "    if (el != null) {\n",
       "      el.textContent = \"BokehJS is loading...\";\n",
       "    }\n",
       "    if (root.Bokeh !== undefined) {\n",
       "      if (el != null) {\n",
       "        el.textContent = \"BokehJS \" + root.Bokeh.version + \" successfully loaded.\";\n",
       "      }\n",
       "    } else if (Date.now() < root._bokeh_timeout) {\n",
       "      setTimeout(display_loaded, 100)\n",
       "    }\n",
       "  }\n",
       "\n",
       "\n",
       "  function run_callbacks() {\n",
       "    try {\n",
       "      root._bokeh_onload_callbacks.forEach(function(callback) {\n",
       "        if (callback != null)\n",
       "          callback();\n",
       "      });\n",
       "    } finally {\n",
       "      delete root._bokeh_onload_callbacks\n",
       "    }\n",
       "    console.debug(\"Bokeh: all callbacks have finished\");\n",
       "  }\n",
       "\n",
       "  function load_libs(css_urls, js_urls, callback) {\n",
       "    if (css_urls == null) css_urls = [];\n",
       "    if (js_urls == null) js_urls = [];\n",
       "\n",
       "    root._bokeh_onload_callbacks.push(callback);\n",
       "    if (root._bokeh_is_loading > 0) {\n",
       "      console.debug(\"Bokeh: BokehJS is being loaded, scheduling callback at\", now());\n",
       "      return null;\n",
       "    }\n",
       "    if (js_urls == null || js_urls.length === 0) {\n",
       "      run_callbacks();\n",
       "      return null;\n",
       "    }\n",
       "    console.debug(\"Bokeh: BokehJS not loaded, scheduling load and callback at\", now());\n",
       "    root._bokeh_is_loading = css_urls.length + js_urls.length;\n",
       "\n",
       "    function on_load() {\n",
       "      root._bokeh_is_loading--;\n",
       "      if (root._bokeh_is_loading === 0) {\n",
       "        console.debug(\"Bokeh: all BokehJS libraries/stylesheets loaded\");\n",
       "        run_callbacks()\n",
       "      }\n",
       "    }\n",
       "\n",
       "    function on_error(url) {\n",
       "      console.error(\"failed to load \" + url);\n",
       "    }\n",
       "\n",
       "    for (let i = 0; i < css_urls.length; i++) {\n",
       "      const url = css_urls[i];\n",
       "      const element = document.createElement(\"link\");\n",
       "      element.onload = on_load;\n",
       "      element.onerror = on_error.bind(null, url);\n",
       "      element.rel = \"stylesheet\";\n",
       "      element.type = \"text/css\";\n",
       "      element.href = url;\n",
       "      console.debug(\"Bokeh: injecting link tag for BokehJS stylesheet: \", url);\n",
       "      document.body.appendChild(element);\n",
       "    }\n",
       "\n",
       "    const hashes = {\"https://cdn.bokeh.org/bokeh/release/bokeh-2.3.2.min.js\": \"XypntL49z55iwGVUW4qsEu83zKL3XEcz0MjuGOQ9SlaaQ68X/g+k1FcioZi7oQAc\", \"https://cdn.bokeh.org/bokeh/release/bokeh-tables-2.3.2.min.js\": \"bEsM86IHGDTLCS0Zod8a8WM6Y4+lafAL/eSiyQcuPzinmWNgNO2/olUF0Z2Dkn5i\", \"https://cdn.bokeh.org/bokeh/release/bokeh-widgets-2.3.2.min.js\": \"TX0gSQTdXTTeScqxj6PVQxTiRW8DOoGVwinyi1D3kxv7wuxQ02XkOxv0xwiypcAH\"};\n",
       "\n",
       "    for (let i = 0; i < js_urls.length; i++) {\n",
       "      const url = js_urls[i];\n",
       "      const element = document.createElement('script');\n",
       "      element.onload = on_load;\n",
       "      element.onerror = on_error.bind(null, url);\n",
       "      element.async = false;\n",
       "      element.src = url;\n",
       "      if (url in hashes) {\n",
       "        element.crossOrigin = \"anonymous\";\n",
       "        element.integrity = \"sha384-\" + hashes[url];\n",
       "      }\n",
       "      console.debug(\"Bokeh: injecting script tag for BokehJS library: \", url);\n",
       "      document.head.appendChild(element);\n",
       "    }\n",
       "  };\n",
       "\n",
       "  function inject_raw_css(css) {\n",
       "    const element = document.createElement(\"style\");\n",
       "    element.appendChild(document.createTextNode(css));\n",
       "    document.body.appendChild(element);\n",
       "  }\n",
       "\n",
       "  \n",
       "  var js_urls = [\"https://cdn.bokeh.org/bokeh/release/bokeh-2.3.2.min.js\", \"https://cdn.bokeh.org/bokeh/release/bokeh-widgets-2.3.2.min.js\", \"https://cdn.bokeh.org/bokeh/release/bokeh-tables-2.3.2.min.js\"];\n",
       "  var css_urls = [];\n",
       "  \n",
       "\n",
       "  var inline_js = [\n",
       "    function(Bokeh) {\n",
       "      Bokeh.set_log_level(\"info\");\n",
       "    },\n",
       "    function(Bokeh) {\n",
       "    \n",
       "    \n",
       "    }\n",
       "  ];\n",
       "\n",
       "  function run_inline_js() {\n",
       "    \n",
       "    if (root.Bokeh !== undefined || force === true) {\n",
       "      \n",
       "    for (var i = 0; i < inline_js.length; i++) {\n",
       "      inline_js[i].call(root, root.Bokeh);\n",
       "    }\n",
       "    if (force === true) {\n",
       "        display_loaded();\n",
       "      }} else if (Date.now() < root._bokeh_timeout) {\n",
       "      setTimeout(run_inline_js, 100);\n",
       "    } else if (!root._bokeh_failed_load) {\n",
       "      console.log(\"Bokeh: BokehJS failed to load within specified timeout.\");\n",
       "      root._bokeh_failed_load = true;\n",
       "    } else if (force !== true) {\n",
       "      var cell = $(document.getElementById(\"1242\")).parents('.cell').data().cell;\n",
       "      cell.output_area.append_execute_result(NB_LOAD_WARNING)\n",
       "    }\n",
       "\n",
       "  }\n",
       "\n",
       "  if (root._bokeh_is_loading === 0) {\n",
       "    console.debug(\"Bokeh: BokehJS loaded, going straight to plotting\");\n",
       "    run_inline_js();\n",
       "  } else {\n",
       "    load_libs(css_urls, js_urls, function() {\n",
       "      console.debug(\"Bokeh: BokehJS plotting callback run at\", now());\n",
       "      run_inline_js();\n",
       "    });\n",
       "  }\n",
       "}(window));"
      ],
      "application/vnd.bokehjs_load.v0+json": "\n(function(root) {\n  function now() {\n    return new Date();\n  }\n\n  var force = true;\n\n  if (typeof root._bokeh_onload_callbacks === \"undefined\" || force === true) {\n    root._bokeh_onload_callbacks = [];\n    root._bokeh_is_loading = undefined;\n  }\n\n  \n\n  \n  if (typeof (root._bokeh_timeout) === \"undefined\" || force === true) {\n    root._bokeh_timeout = Date.now() + 5000;\n    root._bokeh_failed_load = false;\n  }\n\n  var NB_LOAD_WARNING = {'data': {'text/html':\n     \"<div style='background-color: #fdd'>\\n\"+\n     \"<p>\\n\"+\n     \"BokehJS does not appear to have successfully loaded. If loading BokehJS from CDN, this \\n\"+\n     \"may be due to a slow or bad network connection. Possible fixes:\\n\"+\n     \"</p>\\n\"+\n     \"<ul>\\n\"+\n     \"<li>re-rerun `output_notebook()` to attempt to load from CDN again, or</li>\\n\"+\n     \"<li>use INLINE resources instead, as so:</li>\\n\"+\n     \"</ul>\\n\"+\n     \"<code>\\n\"+\n     \"from bokeh.resources import INLINE\\n\"+\n     \"output_notebook(resources=INLINE)\\n\"+\n     \"</code>\\n\"+\n     \"</div>\"}};\n\n  function display_loaded() {\n    var el = document.getElementById(\"1242\");\n    if (el != null) {\n      el.textContent = \"BokehJS is loading...\";\n    }\n    if (root.Bokeh !== undefined) {\n      if (el != null) {\n        el.textContent = \"BokehJS \" + root.Bokeh.version + \" successfully loaded.\";\n      }\n    } else if (Date.now() < root._bokeh_timeout) {\n      setTimeout(display_loaded, 100)\n    }\n  }\n\n\n  function run_callbacks() {\n    try {\n      root._bokeh_onload_callbacks.forEach(function(callback) {\n        if (callback != null)\n          callback();\n      });\n    } finally {\n      delete root._bokeh_onload_callbacks\n    }\n    console.debug(\"Bokeh: all callbacks have finished\");\n  }\n\n  function load_libs(css_urls, js_urls, callback) {\n    if (css_urls == null) css_urls = [];\n    if (js_urls == null) js_urls = [];\n\n    root._bokeh_onload_callbacks.push(callback);\n    if (root._bokeh_is_loading > 0) {\n      console.debug(\"Bokeh: BokehJS is being loaded, scheduling callback at\", now());\n      return null;\n    }\n    if (js_urls == null || js_urls.length === 0) {\n      run_callbacks();\n      return null;\n    }\n    console.debug(\"Bokeh: BokehJS not loaded, scheduling load and callback at\", now());\n    root._bokeh_is_loading = css_urls.length + js_urls.length;\n\n    function on_load() {\n      root._bokeh_is_loading--;\n      if (root._bokeh_is_loading === 0) {\n        console.debug(\"Bokeh: all BokehJS libraries/stylesheets loaded\");\n        run_callbacks()\n      }\n    }\n\n    function on_error(url) {\n      console.error(\"failed to load \" + url);\n    }\n\n    for (let i = 0; i < css_urls.length; i++) {\n      const url = css_urls[i];\n      const element = document.createElement(\"link\");\n      element.onload = on_load;\n      element.onerror = on_error.bind(null, url);\n      element.rel = \"stylesheet\";\n      element.type = \"text/css\";\n      element.href = url;\n      console.debug(\"Bokeh: injecting link tag for BokehJS stylesheet: \", url);\n      document.body.appendChild(element);\n    }\n\n    const hashes = {\"https://cdn.bokeh.org/bokeh/release/bokeh-2.3.2.min.js\": \"XypntL49z55iwGVUW4qsEu83zKL3XEcz0MjuGOQ9SlaaQ68X/g+k1FcioZi7oQAc\", \"https://cdn.bokeh.org/bokeh/release/bokeh-tables-2.3.2.min.js\": \"bEsM86IHGDTLCS0Zod8a8WM6Y4+lafAL/eSiyQcuPzinmWNgNO2/olUF0Z2Dkn5i\", \"https://cdn.bokeh.org/bokeh/release/bokeh-widgets-2.3.2.min.js\": \"TX0gSQTdXTTeScqxj6PVQxTiRW8DOoGVwinyi1D3kxv7wuxQ02XkOxv0xwiypcAH\"};\n\n    for (let i = 0; i < js_urls.length; i++) {\n      const url = js_urls[i];\n      const element = document.createElement('script');\n      element.onload = on_load;\n      element.onerror = on_error.bind(null, url);\n      element.async = false;\n      element.src = url;\n      if (url in hashes) {\n        element.crossOrigin = \"anonymous\";\n        element.integrity = \"sha384-\" + hashes[url];\n      }\n      console.debug(\"Bokeh: injecting script tag for BokehJS library: \", url);\n      document.head.appendChild(element);\n    }\n  };\n\n  function inject_raw_css(css) {\n    const element = document.createElement(\"style\");\n    element.appendChild(document.createTextNode(css));\n    document.body.appendChild(element);\n  }\n\n  \n  var js_urls = [\"https://cdn.bokeh.org/bokeh/release/bokeh-2.3.2.min.js\", \"https://cdn.bokeh.org/bokeh/release/bokeh-widgets-2.3.2.min.js\", \"https://cdn.bokeh.org/bokeh/release/bokeh-tables-2.3.2.min.js\"];\n  var css_urls = [];\n  \n\n  var inline_js = [\n    function(Bokeh) {\n      Bokeh.set_log_level(\"info\");\n    },\n    function(Bokeh) {\n    \n    \n    }\n  ];\n\n  function run_inline_js() {\n    \n    if (root.Bokeh !== undefined || force === true) {\n      \n    for (var i = 0; i < inline_js.length; i++) {\n      inline_js[i].call(root, root.Bokeh);\n    }\n    if (force === true) {\n        display_loaded();\n      }} else if (Date.now() < root._bokeh_timeout) {\n      setTimeout(run_inline_js, 100);\n    } else if (!root._bokeh_failed_load) {\n      console.log(\"Bokeh: BokehJS failed to load within specified timeout.\");\n      root._bokeh_failed_load = true;\n    } else if (force !== true) {\n      var cell = $(document.getElementById(\"1242\")).parents('.cell').data().cell;\n      cell.output_area.append_execute_result(NB_LOAD_WARNING)\n    }\n\n  }\n\n  if (root._bokeh_is_loading === 0) {\n    console.debug(\"Bokeh: BokehJS loaded, going straight to plotting\");\n    run_inline_js();\n  } else {\n    load_libs(css_urls, js_urls, function() {\n      console.debug(\"Bokeh: BokehJS plotting callback run at\", now());\n      run_inline_js();\n    });\n  }\n}(window));"
     },
     "metadata": {},
     "output_type": "display_data"
    },
    {
     "name": "stderr",
     "output_type": "stream",
     "text": [
      "BokehDeprecationWarning: 'legend' keyword is deprecated, use explicit 'legend_label', 'legend_field', or 'legend_group' keywords instead\n"
     ]
    },
    {
     "data": {
      "text/html": [
       "\n",
       "\n",
       "\n",
       "\n",
       "\n",
       "\n",
       "  <div class=\"bk-root\" id=\"aafe7528-aa9f-4bd2-bb2a-20a8318fb7b8\" data-root-id=\"1243\"></div>\n"
      ]
     },
     "metadata": {},
     "output_type": "display_data"
    },
    {
     "data": {
      "application/javascript": [
       "(function(root) {\n",
       "  function embed_document(root) {\n",
       "    \n",
       "  var docs_json = {\"44974910-4f6e-4b0e-834f-f524c3c80084\":{\"defs\":[],\"roots\":{\"references\":[{\"attributes\":{\"below\":[{\"id\":\"1252\"}],\"center\":[{\"id\":\"1255\"},{\"id\":\"1259\"},{\"id\":\"1290\"}],\"height\":400,\"left\":[{\"id\":\"1256\"}],\"renderers\":[{\"id\":\"1277\"}],\"title\":{\"id\":\"1279\"},\"toolbar\":{\"id\":\"1267\"},\"width\":800,\"x_range\":{\"id\":\"1244\"},\"x_scale\":{\"id\":\"1248\"},\"y_range\":{\"id\":\"1246\"},\"y_scale\":{\"id\":\"1250\"}},\"id\":\"1243\",\"subtype\":\"Figure\",\"type\":\"Plot\"},{\"attributes\":{},\"id\":\"1282\",\"type\":\"AllLabels\"},{\"attributes\":{\"axis_label\":\"Days From Begining\",\"formatter\":{\"id\":\"1281\"},\"major_label_policy\":{\"id\":\"1282\"},\"ticker\":{\"id\":\"1253\"}},\"id\":\"1252\",\"type\":\"LinearAxis\"},{\"attributes\":{},\"id\":\"1284\",\"type\":\"BasicTickFormatter\"},{\"attributes\":{},\"id\":\"1285\",\"type\":\"AllLabels\"},{\"attributes\":{\"axis\":{\"id\":\"1252\"},\"ticker\":null},\"id\":\"1255\",\"type\":\"Grid\"},{\"attributes\":{},\"id\":\"1263\",\"type\":\"SaveTool\"},{\"attributes\":{},\"id\":\"1244\",\"type\":\"DataRange1d\"},{\"attributes\":{\"data_source\":{\"id\":\"1274\"},\"glyph\":{\"id\":\"1275\"},\"hover_glyph\":null,\"muted_glyph\":null,\"nonselection_glyph\":{\"id\":\"1276\"},\"view\":{\"id\":\"1278\"}},\"id\":\"1277\",\"type\":\"GlyphRenderer\"},{\"attributes\":{},\"id\":\"1260\",\"type\":\"PanTool\"},{\"attributes\":{\"active_multi\":null,\"tools\":[{\"id\":\"1260\"},{\"id\":\"1261\"},{\"id\":\"1262\"},{\"id\":\"1263\"},{\"id\":\"1264\"},{\"id\":\"1265\"}]},\"id\":\"1267\",\"type\":\"Toolbar\"},{\"attributes\":{},\"id\":\"1281\",\"type\":\"BasicTickFormatter\"},{\"attributes\":{},\"id\":\"1253\",\"type\":\"BasicTicker\"},{\"attributes\":{},\"id\":\"1264\",\"type\":\"ResetTool\"},{\"attributes\":{\"source\":{\"id\":\"1274\"}},\"id\":\"1278\",\"type\":\"CDSView\"},{\"attributes\":{},\"id\":\"1288\",\"type\":\"Selection\"},{\"attributes\":{\"axis\":{\"id\":\"1256\"},\"dimension\":1,\"ticker\":null},\"id\":\"1259\",\"type\":\"Grid\"},{\"attributes\":{\"label\":{\"value\":\"Germany\"},\"renderers\":[{\"id\":\"1277\"}]},\"id\":\"1291\",\"type\":\"LegendItem\"},{\"attributes\":{},\"id\":\"1289\",\"type\":\"UnionRenderers\"},{\"attributes\":{},\"id\":\"1248\",\"type\":\"LinearScale\"},{\"attributes\":{\"line_color\":\"orange\",\"x\":{\"field\":\"x\"},\"y\":{\"field\":\"y\"}},\"id\":\"1275\",\"type\":\"Line\"},{\"attributes\":{\"items\":[{\"id\":\"1291\"}],\"location\":\"top_left\"},\"id\":\"1290\",\"type\":\"Legend\"},{\"attributes\":{},\"id\":\"1261\",\"type\":\"WheelZoomTool\"},{\"attributes\":{},\"id\":\"1257\",\"type\":\"BasicTicker\"},{\"attributes\":{},\"id\":\"1246\",\"type\":\"DataRange1d\"},{\"attributes\":{\"line_alpha\":0.1,\"line_color\":\"orange\",\"x\":{\"field\":\"x\"},\"y\":{\"field\":\"y\"}},\"id\":\"1276\",\"type\":\"Line\"},{\"attributes\":{\"data\":{\"x\":[101,102,103,104,105,106,107,108,109,110,111,112,113,114,115,116,117,118,119,120,121,122,123,124,125,126,127,128,129,130,131,132,133,134,135,136,137,138,139,140,141,142,143,144,145,146,147,148,149,150,151,152,153,154,155,156,157,158,159,160,161,162,163,164,165,166,167,168,169,170,171,172,173,174,175,176,177,178,179,180,181,182,183,184,185,186,187,188,189,190,191,192,193,194,195,196,197,198,199,200,201,202,203,204,205,206,207,208,209,210,211,212,213,214,215,216,217,218,219,220,221,222,223,224,225,226,227,228,229,230,231,232,233,234,235,236,237,238,239,240,241,242,243,244,245,246,247,248,249,250,251,252,253,254,255,256,257,258,259,260,261,262,263,264,265,266,267,268,269,270,271,272,273,274,275,276,277,278,279,280,281,282,283,284,285,286,287,288,289,290,291,292,293,294,295,296,297,298,299,300,301,302,303,304,305,306,307,308,309,310,311,312,313,314,315,316,317,318,319,320,321,322,323,324,325,326,327,328,329,330,331,332,333,334,335,336,337,338,339,340,341,342,343,344,345,346,347,348,349,350,351,352,353,354,355,356,357,358,359,360,361,362,363,364,365,366,367,368,369,370,371,372,373,374,375,376,377,378,379,380,381,382,383,384,385,386,387,388,389,390,391,392,393,394,395,396,397,398,399,400,401,402,403,404,405,406,407,408,409,410,411,412,413,414,415,416,417,418,419,420,421,422,423,424,425,426,427,428,429,430,431,432,433,434,435,436,437,438,439,440,441,442,443,444,445,446,447,448,449,450,451,452,453,454,455,456,457,458,459,460,461,462,463,464,465,466,467,468,469,470,471,472,473,474,475,476,477,478,479,480,481,482,483,484,485,486,487,488,489,490,491,492,493,494,495,496,497,498,499,500,501,502,503,504,505,506,507,508,509,510,511,512,513,514,515,516,517,518,519,520,521,522,523,524,525,526,527,528,529,530,531,532,533,534,535,536,537,538,539,540,541,542,543,544,545,546,547,548,549,550,551,552,553,554,555,556,557,558,559,560,561,562,563,564,565,566,567,568,569,570,571,572,573,574,575,576,577,578,579,580,581,582,583,584,585,586,587,588,589,590,591,592,593,594,595,596,597,598,599,600,601,602,603,604,605,606,607,608,609,610,611,612,613,614,615,616,617,618,619,620,621,622,623,624,625,626,627],\"y\":{\"__ndarray__\":\"5ixXdom0I8DyV1TptZsjwAy4pVlYfSPAKVKBVv5fI8Ax3e/s7UkjwBiqtHLaNiPAvqTv4oAjI8B5tPdjnREjwGmVFg9ZAyPAc2VUTz7zIsCaHf+mQ+giwDynREO53yLAuVgxs3PLIsAgS7TANLwiwGWBguT+tCLASUDmAl+hIsAlCme+KpQiwH2y1CljiCLAHBpGCk14IsDFxrI0YGciwNk9YnCGViLAp0Id9X9NIsCRCgcT2zwiwGcLz5WDLiLAf5KEFOIjIsAD2M7uPBMiwKdiD/csAiLAo0blA0X8IcBcXJRVIPUhwAcpaMBS7CHAgdl5GKjeIcCa8Dhbm9IhwJ+mD2qoxiHA4peejmm7IcD/miHjObIhwAs+yVE+qSHA+X5NPKmgIcBNZ8VJV5ghwIoKXtVmjyHA1poJP3uEIcBtYPRoTHwhwJZT+qEfdiHA2Qi822NvIcCcerf942UhwKXS2zWiWyHAnryh8ERPIcCsL//BLEIhwPe9x1ooMCHAFop2kecOIcD4GtsOD/0gwKM+XDwO5CDARGU0pKnUIMCHYM755MogwFpG8SkLtyDAnaj4S92mIMDRNpeBxaAgwKiTawRZjyDAA8+NvDOCIMDp3Ien1nQgwLimgeIraSDAj+yRyPNYIMAIhtrpi08gwALx9WK5QiDAJZQZMVs2IMDpGsbqmSsgwOnjqgoTIiDAksVTVBEbIMCc3aFabBIgwJlP2Bf8ByDAYdFFIPr3H8BdMYQEodYfwMBI69AqwB/AD1IJOB+rH8BZzxQ7b4UfwCqQLJmMdh/Ar6cHZjteH8BB1uiiyD8fwI9ud5rdKR/AqtSc3AAXH8CrqXNo0/oewIhfln0G3R7AjR4AhyrCHsD4yF7fYLoewBF4BCTBkh7A2lLkHYNtHsDNzuEG1DMewPnWBlfRBB7AB+DFVnjkHcAavmdqP7AdwAoIVtf1lB3ALqhKv1h+HcCFyfnKdGUdwKkWiCcMPh3A1ljgkT8yHcC/UTABdCgdwN0P4ejwDx3A9yDG9YPoHMBKii9JBsscwNr35lTHphzAUg9ZtmGFHMAYibddyW8cwGcNJGsoUxzAEsIcWbo+HMA0xBiEqSAcwImSlb3HBBzA9VCy/AjrG8CvSh6PpdAbwMxTIItQvBvAdKi5ApKnG8AH3XwWaZIbwH7jisAGZRvAhOVGCV84G8CJk2DoIAQbwGWLFJ680RrAvfxsJjCyGsBrz6jHQ3gawJukcsTyWRrAyQIcPLA7GsAlrFoU5h8awDw83N7d/RnA6IWMHBDlGcC3Rb+kCLIZwOr1I36SnRnATGFZzAh/GcBnSxI+b2MZwIL7c8XGORnAZyfIvSodGcC9lUSEWwgZwJEun0Me9BjAu9beIPfWGMBxD0MyursYwMrFQLR1ohjAeMbyPMeJGMC+aF9o224YwLth5iofYhjAKFuwZWVJGMCTu0ioSzoYwCr9eItiHxjAezdBckAPGMDWFBvRw/sXwPrb0TA76hfA9A3suPDVF8AQ+pOBB8YXwNwv/1kxthfAsPlNwTisF8CDvxI/RqMXwJPYa7kXkxfA//SVRC+IF8AzR/Uw9HsXwPR5FS0YdhfAcdVljx1oF8ARUU/06loXwP8bv2ssSxfASHCULtE6F8BSrtvECycXwHHB6yvsGRfAcqi1j8IHF8Bh09Q4M/oWwC5yr8n07BbAfetZ1XHgFsAjAn1ucdQWwKhtqJo8xhbA/ymjtXC6FsAx4ToiO64WwNRSc/eVqBbAf+/nzLCeFsCiDkdSQJcWwD7peTBMjhbAeMmowN2HFsBmohC6xX0WwPgo6oSDcxbAsvVnSudsFsCgLMszAGUWwCR3y8MiXRbAIO4EprpUFsCynKkmMUwWwOEYslwYQhbAJUuqTOo6FsCMIokBZzQWwF4Hwr2WKxbAkhhyua0kFsATIbACDRwWwEwAYQR1FRbAfGATzSUOFsBRQK9YuQMWwFatcssN/hXAkiib16/4FcBmCXTyR/IVwMD0bO5a6RXAp7R5UNfhFcDqF8vVT9sVwCoqaIe60xXAilx+xkbPFcD2j2o6DssVwHgS6mFlxhXALdlTLRrBFcAAGxQFZrsVwDlTLfE9tRXA5lw77M2wFcDBPU8TsKwVwPvdgawRpxXAElH22U+iFcDluktE5ZwVwCVpZCgRmBXAoYWJFKyRFcBMioDQk4sVwLCXZkDhhhXADiV2q1SEFcCudyZKJIAVwODIwTWsehXAmxYcTxJ1FcBskfoDwW4VwCdsnYZzaRXAClWe6SBmFcCNoDkA3mEVwNmEpXRHXhXANnhsRYtZFcDG/HNVc1UVwMeg7VabURXAz/sClUBNFcB7ywbzZ0oVwAvP50H5RhXAfr0ZZqlDFcDogs/+nz8VwJSCHIc4OxXAErQutGc2FcBZIxhSCjIVwMjj33FSLxXAkGrzHXQsFcC5bTrcHCkVwES+yrM3JRXA3917brEgFcCObBDawRsVwJQct6aMFxXAnFUbJH0UFcBp/7HaGhEVwHNvuX6cDhXAhsDkLXAMFcDK5XDgYggVwLjdomBIBBXAd+WqO6gAFcAqKNjObv0UwPG1eKU/+hTAK4oAAxP3FMD8LhLbpPMUwMpDggqr8BTAs42mOj7uFMDXY2wuQ+sUwL0Bdeuz6BTAs/sjdBzmFMDrSuooz+IUwG6TchkP3hTAGYGdir3aFMAt0WZ01tYUwMeOXVYF0xTAlQ5sAxzQFMBy9H8Nm80UwPEl+Pq1yRTAej8ENZTFFMCfJa1HgsIUwKAhGFGWwBTAe73j4/C+FMAmWO5NCL0UwM4iYynauhTAErD6nom3FMDFToH4u7MUwMWQMktgsRTAP2EPvnmvFMBvejXbbq0UwHeQx/BvqxTAQJmXZDSpFMC8DKdBW6YUwNQAUxGbohTABSg5oYKeFMBDiMZUg5oUwNstHbU3lhTAcLBuFA+TFMAM0KyVDJAUwJcrQfUYjBTAmKB/l+SHFMBZrXxErYMUwNviOxnNfxTA3rtE42R7FMACUS99qHgUwI3sBInkdBTAUFHTck5xFMAQ4RTd7mwUwGYHgTZZaRTAKqkIlHRlFMAa6Xs+uGIUwPBgcN5lYBTAnA/grPRbFMDnzkHCq1kUwEfjkYYLVhTA6N6m1ulRFMAJX+nj0E0UwJ6gB0eYShTADQa37YZHFMCnHIOXGEUUwLIv4XQKQhTAPjByvmk+FMCee0pdsjoUwOygZwlKNxTA4uTbQhQ0FMAbiPYdwjEUwN2HYxA8LxTAwCm89/crFMB74oGFLCgUwHxyT1GDJBTA89Hu3OkgFMDo1kknyR0UwEsPB+E2GxTA/FxD0AcZFMC/X7xf0RUUwMC/MrtREhTArzf6sj0OFMDta3q4ygoUwPvgUWeiBhTAE23aSxIEFMC7cOlpRAEUwA++YLAu/RPA3VsD82v4E8CkI7nCNvMTwG/EIpJ37xPAUIBtat3rE8DR6CUjN+gTwAjktrcW5RPAyK9LmszgE8DUl0cWfdsTwB2qQHmE1RPAEXbE693PE8BY2P9XG8oTwFW9FoiOxRPAc9Ayb6nAE8Baa2LsVLoTwM7J72CmshPAqaabIVWqE8BcVVlfPqITwPDYGABlmRPADpKo2S+SE8BqTConGosTwB8blk6mghPA3GuF6GB3E8AlW2Km2GoTwNzZ54bXXhPADlNz5o1SE8D0cCq+qEkTwOWPEzKxPxPAkLry/bAyE8ANcpkmRSQTwBWK7d1rFhPATudweOkIE8Dw+Ax40PoSwEKpfkHr7RLAfvKBGITlEsAKrbh0XdkSwEyJrTbhxBLA0tdVClm0EsDDvj0TDqYSwHry7TNdmxLAyNRFvH+PEsDRDUqRd4cSwI0+t3EOfBLAz3R7wRNtEsBgIJhIx10SwKhXEvrgTxLA/ckbkYJCEsBPwGYskjgSwBCfUL09LxLAWdyaDkMiEsDPbdSTNRYSwDuXK/fgCRLAq3IDW8r+EcA2HEv0VPQRwG6Jvaxm7BHA7Nizz4/iEcDlqcfiTdkRwFfJBSos0BHAbYfnyhrGEcB9o5Zpwb0RwG3wXfKktBHAJrAP1lutEcDjI8cec6YRwPPjnVE0nhHAppM22pCVEcCXhKXgg4wRwPMzYAhlhBHAzZ3bJWR9EcBcg7sE83cRwKBmWgiIchHAEKTBMz1sEcAxdG3E8mQRwFJmNwBqXhHAcJHSisBXEcAOm5IYbFERwIAs11UWTRHAy494l6lIEcCO2tC63kIRwNqnRqa6PBHA7I9NJ6k2EcDpznzgejERwN9pWcgpLBHASw9jujAoEcBd/wIzCyQRwGSghQCvHhHA5ZO3BTUZEcCrjQv7QhMRwCmKbcniERHAS0gMS6INEcC17A0vNgoRwJ8acxysBRHAtYQzyiUAEcBgUveVufgQwE+4qKxz8hDAiq/sXYnsEMDB6cul9+YQwBfyBJKs4hDAAaYJrFreEMD1EKm6bNgQwOREg1NY0hDA5/GluLTMEMDs8KST3sYQwClRoGKdwRDA9FKdgM29EMAUxX76dLkQwP46KbqIsxDAHmI5OUauEMC2HC34+6cQwJbPPl5LohDALGx4QlCdEMCeuuFtKJkQwGvo5cj/lBDACQfRX+yPEMBQ615muYoQwJHpEGJzhRDAdXvncxaBEMCA5jIBJn0QwBz5vmFpehDAz1XwWSt3EMDDhWQQr3IQwBlzkw+lbRDArQmoo5ZoEMAFo+2MHmQQwN3oan4HYBDA1LK1x8VcEMA2iu/PglkQwG1xSpdTVRDAOyDl7N5QEMBRjp3kpEwQwJcLW4pkSBDAN2IWZpNEEMB86IhrqkEQwP3gl42jPhDALqvCBsg6EMCSYir8qDYQwKSNvsyyMhDAaLejrrAuEMALFUcLFisQwHl4ADiZKBDAK6QJ/volEMCQuFmEZSIQwHNg19CCHhDAcklbZmUaEMCjTlmruBYQwDn92Y3lEhDAZHDM49oPEMAG8m9KcgsQwKgSJ2mMBxDAOoIItv8CEMDALct6vf0PwBAGwTaD9g/AZUaYt+7tD8D6tpNUy+QPwH4G7sMU3w/Ame1wkqHXD8BJBQw3hMwPwEoA3scAwg/ALrqzVuW2D8DN/lOglKwPwERL8nHmow/A8LV0W8SaD8B3PkiHopAPwEVPG8lUgw/AIYaFWqF1D8ANI0BE4mkPwFErme4RXw/AtB1tbcBUD8Cttux/QUYPwPlfUF2BNw/Ao8rbaRMoD8BRSWTMihcPwJbgrVOSBg/AkkCNG7P1DsAkY+mSVeoOwHJ5HBf23Q7Ak+GBpFrNDsBnSNDtPboOwJB7kLTtpw7AArG8q1iWDsAiRt1LD4IOwMC9G+39dA7Ae1y+OGVmDsD3suDL7VQOwJ4k3d36QQ7AttsyfPUtDsCV2xaopBoOwI8aJr2CAw7Asd78+Fn1DcB9YfRuxeYNwOnbD2Qt1g3A8heuw+rBDcDuFwhSUq0NwA2ZAWeXmQ3A4/Kq2q6DDcDVV67XOnINwNUPzfkjYQ3AVuhLQn1LDcAoDxEVlzoNwLYGn7sVIg3AQ2r8LlcODcCdkaLdaPsMwLkBSMoQ6wzA2T4hF9fbDMDN05IJ58gMwCwI4lr1tgzA1Km6Mr2iDMBTOL/D/pEMwA==\",\"dtype\":\"float64\",\"order\":\"little\",\"shape\":[527]}},\"selected\":{\"id\":\"1288\"},\"selection_policy\":{\"id\":\"1289\"}},\"id\":\"1274\",\"type\":\"ColumnDataSource\"},{\"attributes\":{},\"id\":\"1279\",\"type\":\"Title\"},{\"attributes\":{\"axis_label\":\"Normalised Cumulative Cases\",\"formatter\":{\"id\":\"1284\"},\"major_label_policy\":{\"id\":\"1285\"},\"ticker\":{\"id\":\"1257\"}},\"id\":\"1256\",\"type\":\"LinearAxis\"},{\"attributes\":{\"bottom_units\":\"screen\",\"fill_alpha\":0.5,\"fill_color\":\"lightgrey\",\"left_units\":\"screen\",\"level\":\"overlay\",\"line_alpha\":1.0,\"line_color\":\"black\",\"line_dash\":[4,4],\"line_width\":2,\"right_units\":\"screen\",\"syncable\":false,\"top_units\":\"screen\"},\"id\":\"1266\",\"type\":\"BoxAnnotation\"},{\"attributes\":{},\"id\":\"1250\",\"type\":\"LinearScale\"},{\"attributes\":{\"overlay\":{\"id\":\"1266\"}},\"id\":\"1262\",\"type\":\"BoxZoomTool\"},{\"attributes\":{},\"id\":\"1265\",\"type\":\"HelpTool\"}],\"root_ids\":[\"1243\"]},\"title\":\"Bokeh Application\",\"version\":\"2.3.2\"}};\n",
       "  var render_items = [{\"docid\":\"44974910-4f6e-4b0e-834f-f524c3c80084\",\"root_ids\":[\"1243\"],\"roots\":{\"1243\":\"aafe7528-aa9f-4bd2-bb2a-20a8318fb7b8\"}}];\n",
       "  root.Bokeh.embed.embed_items_notebook(docs_json, render_items);\n",
       "\n",
       "  }\n",
       "  if (root.Bokeh !== undefined) {\n",
       "    embed_document(root);\n",
       "  } else {\n",
       "    var attempts = 0;\n",
       "    var timer = setInterval(function(root) {\n",
       "      if (root.Bokeh !== undefined) {\n",
       "        clearInterval(timer);\n",
       "        embed_document(root);\n",
       "      } else {\n",
       "        attempts++;\n",
       "        if (attempts > 100) {\n",
       "          clearInterval(timer);\n",
       "          console.log(\"Bokeh: ERROR: Unable to run BokehJS code because BokehJS library is missing\");\n",
       "        }\n",
       "      }\n",
       "    }, 10, root)\n",
       "  }\n",
       "})(window);"
      ],
      "application/vnd.bokehjs_exec.v0+json": ""
     },
     "metadata": {
      "application/vnd.bokehjs_exec.v0+json": {
       "id": "1243"
      }
     },
     "output_type": "display_data"
    }
   ],
   "source": [
    "# import modules\n",
    "from bokeh.plotting import figure, output_notebook, show\n",
    "from bokeh.layouts import row\n",
    "# output to notebook\n",
    "output_notebook()\n",
    "  \n",
    "# create figure\n",
    "p = figure(plot_width = 800, plot_height = 400)\n",
    "\n",
    "   \n",
    "# add a line renderer\n",
    "\n",
    "p.line(Cumulative_cases_3C['Days'], Cumulative_cases_3C['Philippines_CC_log'], legend=\"Germany\", line_color=\"orange\")\n",
    "p.xaxis.axis_label = \"Days From Begining\"\n",
    "p.yaxis.axis_label = \"Normalised Cumulative Cases\"\n",
    "p.legend.location = 'top_left'\n",
    "\n",
    "\n",
    "# show the results\n",
    "show(p)"
   ]
  },
  {
   "cell_type": "code",
   "execution_count": 13,
   "id": "9b1a54e1",
   "metadata": {},
   "outputs": [
    {
     "name": "stderr",
     "output_type": "stream",
     "text": [
      "BokehDeprecationWarning: 'legend' keyword is deprecated, use explicit 'legend_label', 'legend_field', or 'legend_group' keywords instead\n"
     ]
    },
    {
     "data": {
      "text/html": [
       "\n",
       "\n",
       "\n",
       "\n",
       "\n",
       "\n",
       "  <div class=\"bk-root\" id=\"bfd62285-7a99-4d2e-be2c-b6c6eeae72a4\" data-root-id=\"1358\"></div>\n"
      ]
     },
     "metadata": {},
     "output_type": "display_data"
    },
    {
     "data": {
      "application/javascript": [
       "(function(root) {\n",
       "  function embed_document(root) {\n",
       "    \n",
       "  var docs_json = {\"57bbc351-f706-47cc-a267-f4f66bb3d8de\":{\"defs\":[],\"roots\":{\"references\":[{\"attributes\":{\"below\":[{\"id\":\"1367\"}],\"center\":[{\"id\":\"1370\"},{\"id\":\"1374\"},{\"id\":\"1405\"}],\"height\":400,\"left\":[{\"id\":\"1371\"}],\"renderers\":[{\"id\":\"1392\"}],\"title\":{\"id\":\"1394\"},\"toolbar\":{\"id\":\"1382\"},\"width\":800,\"x_range\":{\"id\":\"1359\"},\"x_scale\":{\"id\":\"1363\"},\"y_range\":{\"id\":\"1361\"},\"y_scale\":{\"id\":\"1365\"}},\"id\":\"1358\",\"subtype\":\"Figure\",\"type\":\"Plot\"},{\"attributes\":{\"label\":{\"value\":\"Greece\"},\"renderers\":[{\"id\":\"1392\"}]},\"id\":\"1406\",\"type\":\"LegendItem\"},{\"attributes\":{\"active_multi\":null,\"tools\":[{\"id\":\"1375\"},{\"id\":\"1376\"},{\"id\":\"1377\"},{\"id\":\"1378\"},{\"id\":\"1379\"},{\"id\":\"1380\"}]},\"id\":\"1382\",\"type\":\"Toolbar\"},{\"attributes\":{\"data_source\":{\"id\":\"1389\"},\"glyph\":{\"id\":\"1390\"},\"hover_glyph\":null,\"muted_glyph\":null,\"nonselection_glyph\":{\"id\":\"1391\"},\"view\":{\"id\":\"1393\"}},\"id\":\"1392\",\"type\":\"GlyphRenderer\"},{\"attributes\":{},\"id\":\"1380\",\"type\":\"HelpTool\"},{\"attributes\":{\"overlay\":{\"id\":\"1381\"}},\"id\":\"1377\",\"type\":\"BoxZoomTool\"},{\"attributes\":{},\"id\":\"1368\",\"type\":\"BasicTicker\"},{\"attributes\":{},\"id\":\"1378\",\"type\":\"SaveTool\"},{\"attributes\":{},\"id\":\"1379\",\"type\":\"ResetTool\"},{\"attributes\":{},\"id\":\"1375\",\"type\":\"PanTool\"},{\"attributes\":{},\"id\":\"1372\",\"type\":\"BasicTicker\"},{\"attributes\":{\"line_color\":\"purple\",\"x\":{\"field\":\"x\"},\"y\":{\"field\":\"y\"}},\"id\":\"1390\",\"type\":\"Line\"},{\"attributes\":{\"source\":{\"id\":\"1389\"}},\"id\":\"1393\",\"type\":\"CDSView\"},{\"attributes\":{},\"id\":\"1394\",\"type\":\"Title\"},{\"attributes\":{\"data\":{\"x\":[101,102,103,104,105,106,107,108,109,110,111,112,113,114,115,116,117,118,119,120,121,122,123,124,125,126,127,128,129,130,131,132,133,134,135,136,137,138,139,140,141,142,143,144,145,146,147,148,149,150,151,152,153,154,155,156,157,158,159,160,161,162,163,164,165,166,167,168,169,170,171,172,173,174,175,176,177,178,179,180,181,182,183,184,185,186,187,188,189,190,191,192,193,194,195,196,197,198,199,200,201,202,203,204,205,206,207,208,209,210,211,212,213,214,215,216,217,218,219,220,221,222,223,224,225,226,227,228,229,230,231,232,233,234,235,236,237,238,239,240,241,242,243,244,245,246,247,248,249,250,251,252,253,254,255,256,257,258,259,260,261,262,263,264,265,266,267,268,269,270,271,272,273,274,275,276,277,278,279,280,281,282,283,284,285,286,287,288,289,290,291,292,293,294,295,296,297,298,299,300,301,302,303,304,305,306,307,308,309,310,311,312,313,314,315,316,317,318,319,320,321,322,323,324,325,326,327,328,329,330,331,332,333,334,335,336,337,338,339,340,341,342,343,344,345,346,347,348,349,350,351,352,353,354,355,356,357,358,359,360,361,362,363,364,365,366,367,368,369,370,371,372,373,374,375,376,377,378,379,380,381,382,383,384,385,386,387,388,389,390,391,392,393,394,395,396,397,398,399,400,401,402,403,404,405,406,407,408,409,410,411,412,413,414,415,416,417,418,419,420,421,422,423,424,425,426,427,428,429,430,431,432,433,434,435,436,437,438,439,440,441,442,443,444,445,446,447,448,449,450,451,452,453,454,455,456,457,458,459,460,461,462,463,464,465,466,467,468,469,470,471,472,473,474,475,476,477,478,479,480,481,482,483,484,485,486,487,488,489,490,491,492,493,494,495,496,497,498,499,500,501,502,503,504,505,506,507,508,509,510,511,512,513,514,515,516,517,518,519,520,521,522,523,524,525,526,527,528,529,530,531,532,533,534,535,536,537,538,539,540,541,542,543,544,545,546,547,548,549,550,551,552,553,554,555,556,557,558,559,560,561,562,563,564,565,566,567,568,569,570,571,572,573,574,575,576,577,578,579,580,581,582,583,584,585,586,587,588,589,590,591,592,593,594,595,596,597,598,599,600,601,602,603,604,605,606,607,608,609,610,611,612,613,614,615,616,617,618,619,620,621,622,623,624,625,626,627],\"y\":{\"__ndarray__\":\"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\",\"dtype\":\"float64\",\"order\":\"little\",\"shape\":[527]}},\"selected\":{\"id\":\"1403\"},\"selection_policy\":{\"id\":\"1404\"}},\"id\":\"1389\",\"type\":\"ColumnDataSource\"},{\"attributes\":{},\"id\":\"1403\",\"type\":\"Selection\"},{\"attributes\":{\"items\":[{\"id\":\"1406\"}],\"location\":\"top_left\"},\"id\":\"1405\",\"type\":\"Legend\"},{\"attributes\":{},\"id\":\"1404\",\"type\":\"UnionRenderers\"},{\"attributes\":{\"line_alpha\":0.1,\"line_color\":\"purple\",\"x\":{\"field\":\"x\"},\"y\":{\"field\":\"y\"}},\"id\":\"1391\",\"type\":\"Line\"},{\"attributes\":{\"axis_label\":\"Normalised Cumulative Cases\",\"formatter\":{\"id\":\"1399\"},\"major_label_policy\":{\"id\":\"1400\"},\"ticker\":{\"id\":\"1372\"}},\"id\":\"1371\",\"type\":\"LinearAxis\"},{\"attributes\":{},\"id\":\"1376\",\"type\":\"WheelZoomTool\"},{\"attributes\":{\"bottom_units\":\"screen\",\"fill_alpha\":0.5,\"fill_color\":\"lightgrey\",\"left_units\":\"screen\",\"level\":\"overlay\",\"line_alpha\":1.0,\"line_color\":\"black\",\"line_dash\":[4,4],\"line_width\":2,\"right_units\":\"screen\",\"syncable\":false,\"top_units\":\"screen\"},\"id\":\"1381\",\"type\":\"BoxAnnotation\"},{\"attributes\":{\"axis\":{\"id\":\"1371\"},\"dimension\":1,\"ticker\":null},\"id\":\"1374\",\"type\":\"Grid\"},{\"attributes\":{},\"id\":\"1359\",\"type\":\"DataRange1d\"},{\"attributes\":{},\"id\":\"1361\",\"type\":\"DataRange1d\"},{\"attributes\":{\"axis_label\":\"Days From Begining\",\"formatter\":{\"id\":\"1396\"},\"major_label_policy\":{\"id\":\"1397\"},\"ticker\":{\"id\":\"1368\"}},\"id\":\"1367\",\"type\":\"LinearAxis\"},{\"attributes\":{},\"id\":\"1396\",\"type\":\"BasicTickFormatter\"},{\"attributes\":{},\"id\":\"1397\",\"type\":\"AllLabels\"},{\"attributes\":{\"axis\":{\"id\":\"1367\"},\"ticker\":null},\"id\":\"1370\",\"type\":\"Grid\"},{\"attributes\":{},\"id\":\"1399\",\"type\":\"BasicTickFormatter\"},{\"attributes\":{},\"id\":\"1363\",\"type\":\"LinearScale\"},{\"attributes\":{},\"id\":\"1365\",\"type\":\"LinearScale\"},{\"attributes\":{},\"id\":\"1400\",\"type\":\"AllLabels\"}],\"root_ids\":[\"1358\"]},\"title\":\"Bokeh Application\",\"version\":\"2.3.2\"}};\n",
       "  var render_items = [{\"docid\":\"57bbc351-f706-47cc-a267-f4f66bb3d8de\",\"root_ids\":[\"1358\"],\"roots\":{\"1358\":\"bfd62285-7a99-4d2e-be2c-b6c6eeae72a4\"}}];\n",
       "  root.Bokeh.embed.embed_items_notebook(docs_json, render_items);\n",
       "\n",
       "  }\n",
       "  if (root.Bokeh !== undefined) {\n",
       "    embed_document(root);\n",
       "  } else {\n",
       "    var attempts = 0;\n",
       "    var timer = setInterval(function(root) {\n",
       "      if (root.Bokeh !== undefined) {\n",
       "        clearInterval(timer);\n",
       "        embed_document(root);\n",
       "      } else {\n",
       "        attempts++;\n",
       "        if (attempts > 100) {\n",
       "          clearInterval(timer);\n",
       "          console.log(\"Bokeh: ERROR: Unable to run BokehJS code because BokehJS library is missing\");\n",
       "        }\n",
       "      }\n",
       "    }, 10, root)\n",
       "  }\n",
       "})(window);"
      ],
      "application/vnd.bokehjs_exec.v0+json": ""
     },
     "metadata": {
      "application/vnd.bokehjs_exec.v0+json": {
       "id": "1358"
      }
     },
     "output_type": "display_data"
    }
   ],
   "source": [
    "p = figure(plot_width = 800, plot_height = 400)\n",
    "p.line(Cumulative_cases_3C['Days'], Cumulative_cases_3C['Afghanistan_CC_log'], legend=\"Greece\", line_color=\"purple\")\n",
    "p.xaxis.axis_label = \"Days From Begining\"\n",
    "p.yaxis.axis_label = \"Normalised Cumulative Cases\"\n",
    "p.legend.location = 'top_left'\n",
    "\n",
    "# show the results\n",
    "show(p)"
   ]
  },
  {
   "cell_type": "code",
   "execution_count": 14,
   "id": "339b5985",
   "metadata": {},
   "outputs": [
    {
     "name": "stderr",
     "output_type": "stream",
     "text": [
      "BokehDeprecationWarning: 'legend' keyword is deprecated, use explicit 'legend_label', 'legend_field', or 'legend_group' keywords instead\n"
     ]
    },
    {
     "data": {
      "text/html": [
       "\n",
       "\n",
       "\n",
       "\n",
       "\n",
       "\n",
       "  <div class=\"bk-root\" id=\"e0573922-1593-4580-bd70-f8bdcbfc8c71\" data-root-id=\"1484\"></div>\n"
      ]
     },
     "metadata": {},
     "output_type": "display_data"
    },
    {
     "data": {
      "application/javascript": [
       "(function(root) {\n",
       "  function embed_document(root) {\n",
       "    \n",
       "  var docs_json = {\"025e73a3-fa95-4e97-acfb-8b64a7388d63\":{\"defs\":[],\"roots\":{\"references\":[{\"attributes\":{\"below\":[{\"id\":\"1493\"}],\"center\":[{\"id\":\"1496\"},{\"id\":\"1500\"},{\"id\":\"1531\"}],\"height\":400,\"left\":[{\"id\":\"1497\"}],\"renderers\":[{\"id\":\"1518\"}],\"title\":{\"id\":\"1520\"},\"toolbar\":{\"id\":\"1508\"},\"width\":800,\"x_range\":{\"id\":\"1485\"},\"x_scale\":{\"id\":\"1489\"},\"y_range\":{\"id\":\"1487\"},\"y_scale\":{\"id\":\"1491\"}},\"id\":\"1484\",\"subtype\":\"Figure\",\"type\":\"Plot\"},{\"attributes\":{},\"id\":\"1506\",\"type\":\"HelpTool\"},{\"attributes\":{\"line_color\":\"purple\",\"x\":{\"field\":\"x\"},\"y\":{\"field\":\"y\"}},\"id\":\"1516\",\"type\":\"Line\"},{\"attributes\":{},\"id\":\"1501\",\"type\":\"PanTool\"},{\"attributes\":{\"data_source\":{\"id\":\"1515\"},\"glyph\":{\"id\":\"1516\"},\"hover_glyph\":null,\"muted_glyph\":null,\"nonselection_glyph\":{\"id\":\"1517\"},\"view\":{\"id\":\"1519\"}},\"id\":\"1518\",\"type\":\"GlyphRenderer\"},{\"attributes\":{},\"id\":\"1522\",\"type\":\"BasicTickFormatter\"},{\"attributes\":{},\"id\":\"1523\",\"type\":\"AllLabels\"},{\"attributes\":{\"data\":{\"x\":[101,102,103,104,105,106,107,108,109,110,111,112,113,114,115,116,117,118,119,120,121,122,123,124,125,126,127,128,129,130,131,132,133,134,135,136,137,138,139,140,141,142,143,144,145,146,147,148,149,150,151,152,153,154,155,156,157,158,159,160,161,162,163,164,165,166,167,168,169,170,171,172,173,174,175,176,177,178,179,180,181,182,183,184,185,186,187,188,189,190,191,192,193,194,195,196,197,198,199,200,201,202,203,204,205,206,207,208,209,210,211,212,213,214,215,216,217,218,219,220,221,222,223,224,225,226,227,228,229,230,231,232,233,234,235,236,237,238,239,240,241,242,243,244,245,246,247,248,249,250,251,252,253,254,255,256,257,258,259,260,261,262,263,264,265,266,267,268,269,270,271,272,273,274,275,276,277,278,279,280,281,282,283,284,285,286,287,288,289,290,291,292,293,294,295,296,297,298,299,300,301,302,303,304,305,306,307,308,309,310,311,312,313,314,315,316,317,318,319,320,321,322,323,324,325,326,327,328,329,330,331,332,333,334,335,336,337,338,339,340,341,342,343,344,345,346,347,348,349,350,351,352,353,354,355,356,357,358,359,360,361,362,363,364,365,366,367,368,369,370,371,372,373,374,375,376,377,378,379,380,381,382,383,384,385,386,387,388,389,390,391,392,393,394,395,396,397,398,399,400,401,402,403,404,405,406,407,408,409,410,411,412,413,414,415,416,417,418,419,420,421,422,423,424,425,426,427,428,429,430,431,432,433,434,435,436,437,438,439,440,441,442,443,444,445,446,447,448,449,450,451,452,453,454,455,456,457,458,459,460,461,462,463,464,465,466,467,468,469,470,471,472,473,474,475,476,477,478,479,480,481,482,483,484,485,486,487,488,489,490,491,492,493,494,495,496,497,498,499,500,501,502,503,504,505,506,507,508,509,510,511,512,513,514,515,516,517,518,519,520,521,522,523,524,525,526,527,528,529,530,531,532,533,534,535,536,537,538,539,540,541,542,543,544,545,546,547,548,549,550,551,552,553,554,555,556,557,558,559,560,561,562,563,564,565,566,567,568,569,570,571,572,573,574,575,576,577,578,579,580,581,582,583,584,585,586,587,588,589,590,591,592,593,594,595,596,597,598,599,600,601,602,603,604,605,606,607,608,609,610,611,612,613,614,615,616,617,618,619,620,621,622,623,624,625,626,627],\"y\":{\"__ndarray__\":\"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\",\"dtype\":\"float64\",\"order\":\"little\",\"shape\":[527]}},\"selected\":{\"id\":\"1529\"},\"selection_policy\":{\"id\":\"1530\"}},\"id\":\"1515\",\"type\":\"ColumnDataSource\"},{\"attributes\":{\"line_alpha\":0.1,\"line_color\":\"purple\",\"x\":{\"field\":\"x\"},\"y\":{\"field\":\"y\"}},\"id\":\"1517\",\"type\":\"Line\"},{\"attributes\":{\"items\":[{\"id\":\"1532\"}],\"location\":\"top_left\"},\"id\":\"1531\",\"type\":\"Legend\"},{\"attributes\":{},\"id\":\"1525\",\"type\":\"BasicTickFormatter\"},{\"attributes\":{\"source\":{\"id\":\"1515\"}},\"id\":\"1519\",\"type\":\"CDSView\"},{\"attributes\":{},\"id\":\"1526\",\"type\":\"AllLabels\"},{\"attributes\":{},\"id\":\"1520\",\"type\":\"Title\"},{\"attributes\":{\"overlay\":{\"id\":\"1507\"}},\"id\":\"1503\",\"type\":\"BoxZoomTool\"},{\"attributes\":{\"label\":{\"value\":\"Japan\"},\"renderers\":[{\"id\":\"1518\"}]},\"id\":\"1532\",\"type\":\"LegendItem\"},{\"attributes\":{},\"id\":\"1485\",\"type\":\"DataRange1d\"},{\"attributes\":{\"bottom_units\":\"screen\",\"fill_alpha\":0.5,\"fill_color\":\"lightgrey\",\"left_units\":\"screen\",\"level\":\"overlay\",\"line_alpha\":1.0,\"line_color\":\"black\",\"line_dash\":[4,4],\"line_width\":2,\"right_units\":\"screen\",\"syncable\":false,\"top_units\":\"screen\"},\"id\":\"1507\",\"type\":\"BoxAnnotation\"},{\"attributes\":{},\"id\":\"1487\",\"type\":\"DataRange1d\"},{\"attributes\":{\"axis_label\":\"Normalised Cumulative Cases\",\"formatter\":{\"id\":\"1525\"},\"major_label_policy\":{\"id\":\"1526\"},\"ticker\":{\"id\":\"1498\"}},\"id\":\"1497\",\"type\":\"LinearAxis\"},{\"attributes\":{},\"id\":\"1505\",\"type\":\"ResetTool\"},{\"attributes\":{\"axis_label\":\"Days From Begining\",\"formatter\":{\"id\":\"1522\"},\"major_label_policy\":{\"id\":\"1523\"},\"ticker\":{\"id\":\"1494\"}},\"id\":\"1493\",\"type\":\"LinearAxis\"},{\"attributes\":{},\"id\":\"1489\",\"type\":\"LinearScale\"},{\"attributes\":{},\"id\":\"1491\",\"type\":\"LinearScale\"},{\"attributes\":{},\"id\":\"1494\",\"type\":\"BasicTicker\"},{\"attributes\":{\"axis\":{\"id\":\"1493\"},\"ticker\":null},\"id\":\"1496\",\"type\":\"Grid\"},{\"attributes\":{},\"id\":\"1529\",\"type\":\"Selection\"},{\"attributes\":{\"axis\":{\"id\":\"1497\"},\"dimension\":1,\"ticker\":null},\"id\":\"1500\",\"type\":\"Grid\"},{\"attributes\":{},\"id\":\"1498\",\"type\":\"BasicTicker\"},{\"attributes\":{},\"id\":\"1530\",\"type\":\"UnionRenderers\"},{\"attributes\":{},\"id\":\"1504\",\"type\":\"SaveTool\"},{\"attributes\":{\"active_multi\":null,\"tools\":[{\"id\":\"1501\"},{\"id\":\"1502\"},{\"id\":\"1503\"},{\"id\":\"1504\"},{\"id\":\"1505\"},{\"id\":\"1506\"}]},\"id\":\"1508\",\"type\":\"Toolbar\"},{\"attributes\":{},\"id\":\"1502\",\"type\":\"WheelZoomTool\"}],\"root_ids\":[\"1484\"]},\"title\":\"Bokeh Application\",\"version\":\"2.3.2\"}};\n",
       "  var render_items = [{\"docid\":\"025e73a3-fa95-4e97-acfb-8b64a7388d63\",\"root_ids\":[\"1484\"],\"roots\":{\"1484\":\"e0573922-1593-4580-bd70-f8bdcbfc8c71\"}}];\n",
       "  root.Bokeh.embed.embed_items_notebook(docs_json, render_items);\n",
       "\n",
       "  }\n",
       "  if (root.Bokeh !== undefined) {\n",
       "    embed_document(root);\n",
       "  } else {\n",
       "    var attempts = 0;\n",
       "    var timer = setInterval(function(root) {\n",
       "      if (root.Bokeh !== undefined) {\n",
       "        clearInterval(timer);\n",
       "        embed_document(root);\n",
       "      } else {\n",
       "        attempts++;\n",
       "        if (attempts > 100) {\n",
       "          clearInterval(timer);\n",
       "          console.log(\"Bokeh: ERROR: Unable to run BokehJS code because BokehJS library is missing\");\n",
       "        }\n",
       "      }\n",
       "    }, 10, root)\n",
       "  }\n",
       "})(window);"
      ],
      "application/vnd.bokehjs_exec.v0+json": ""
     },
     "metadata": {
      "application/vnd.bokehjs_exec.v0+json": {
       "id": "1484"
      }
     },
     "output_type": "display_data"
    }
   ],
   "source": [
    "p = figure(plot_width = 800, plot_height = 400)\n",
    "p.line(Cumulative_cases_3C['Days'], Cumulative_cases_3C['Venezuela_CC_log'], legend=\"Japan\", line_color=\"purple\")\n",
    "p.xaxis.axis_label = \"Days From Begining\"\n",
    "p.yaxis.axis_label = \"Normalised Cumulative Cases\"\n",
    "p.legend.location = 'top_left'\n",
    "\n",
    "# show the results\n",
    "show(p)"
   ]
  },
  {
   "cell_type": "code",
   "execution_count": 15,
   "id": "6227c327",
   "metadata": {},
   "outputs": [],
   "source": [
    "v_w_1 = Cumulative_cases_3C[(Cumulative_cases_3C[\"Days\"] >= 100) & (Cumulative_cases_3C[\"Days\"] <= 120)]\n",
    "v_w_2 = Cumulative_cases_3C[(Cumulative_cases_3C[\"Days\"] >= 120) & (Cumulative_cases_3C[\"Days\"] <= 200)]\n",
    "v_w_3 = Cumulative_cases_3C[(Cumulative_cases_3C[\"Days\"] >= 200) & (Cumulative_cases_3C[\"Days\"] <= 260)]\n",
    "v_w_4 = Cumulative_cases_3C[(Cumulative_cases_3C[\"Days\"] >= 100) & (Cumulative_cases_3C[\"Days\"] <= 260)]"
   ]
  },
  {
   "cell_type": "code",
   "execution_count": 16,
   "id": "d590ceec",
   "metadata": {},
   "outputs": [],
   "source": [
    "P_w_1 = Cumulative_cases_3C[(Cumulative_cases_3C[\"Days\"] >= 100) & (Cumulative_cases_3C[\"Days\"] <= 160)]\n",
    "P_w_2 = Cumulative_cases_3C[(Cumulative_cases_3C[\"Days\"] >= 160) & (Cumulative_cases_3C[\"Days\"] <= 200)]\n",
    "P_w_3 = Cumulative_cases_3C[(Cumulative_cases_3C[\"Days\"] >= 100) & (Cumulative_cases_3C[\"Days\"] <= 200)]"
   ]
  },
  {
   "cell_type": "code",
   "execution_count": 17,
   "id": "5eb68c39",
   "metadata": {},
   "outputs": [],
   "source": [
    "A_w_1 = Cumulative_cases_3C[(Cumulative_cases_3C[\"Days\"] >= 100) & (Cumulative_cases_3C[\"Days\"] <= 120)]\n",
    "A_w_2 = Cumulative_cases_3C[(Cumulative_cases_3C[\"Days\"] >= 120) & (Cumulative_cases_3C[\"Days\"] <= 160)]\n",
    "A_w_3 = Cumulative_cases_3C[(Cumulative_cases_3C[\"Days\"] >= 100) & (Cumulative_cases_3C[\"Days\"] <= 160)]"
   ]
  },
  {
   "cell_type": "code",
   "execution_count": 18,
   "id": "a47f7cc8",
   "metadata": {},
   "outputs": [
    {
     "name": "stdout",
     "output_type": "stream",
     "text": [
      "0.0421284025988497 -17.789955142442448\n"
     ]
    }
   ],
   "source": [
    "xv1 = v_w_1['Days']\n",
    "yv1 = v_w_1['Venezuela_CC_log']\n",
    "yvv1 = v_w_1['Venezuela_CC']\n",
    "z,cov = np.polyfit(xv1,yv1,1,cov=True)\n",
    "v1_slope1 = z[0]\n",
    "v1_intercept1 = z[1]\n",
    "print (v1_slope1, v1_intercept1)"
   ]
  },
  {
   "cell_type": "code",
   "execution_count": 19,
   "id": "bce20dd1",
   "metadata": {},
   "outputs": [
    {
     "name": "stdout",
     "output_type": "stream",
     "text": [
      "0.04800517558106437 -18.71656161049299\n"
     ]
    }
   ],
   "source": [
    "xv2 = v_w_2['Days']\n",
    "yv2 = v_w_2['Venezuela_CC_log']\n",
    "yvv2 = v_w_2['Venezuela_CC']\n",
    "z,cov = np.polyfit(xv2,yv2,1,cov=True)\n",
    "v2_slope1 = z[0]\n",
    "v2_intercept1 = z[1]\n",
    "print (v2_slope1, v2_intercept1)"
   ]
  },
  {
   "cell_type": "code",
   "execution_count": 20,
   "id": "9f024f3a",
   "metadata": {},
   "outputs": [
    {
     "name": "stdout",
     "output_type": "stream",
     "text": [
      "0.02896050660016554 -14.97569520726842\n"
     ]
    }
   ],
   "source": [
    "xv3 = v_w_3['Days']\n",
    "yv3 = v_w_3['Venezuela_CC_log']\n",
    "yvv3 = v_w_3['Venezuela_CC']\n",
    "z,cov = np.polyfit(xv3,yv3,1,cov=True)\n",
    "v3_slope1 = z[0]\n",
    "v3_intercept1 = z[1]\n",
    "print (v3_slope1, v3_intercept1)"
   ]
  },
  {
   "cell_type": "code",
   "execution_count": 21,
   "id": "2c37aa1f",
   "metadata": {},
   "outputs": [
    {
     "name": "stdout",
     "output_type": "stream",
     "text": [
      "0.04017459204505269 -17.51176088005371\n"
     ]
    }
   ],
   "source": [
    "xv4 = v_w_4['Days']\n",
    "yv4 = v_w_4['Venezuela_CC_log']\n",
    "yvv4 = v_w_4['Venezuela_CC']\n",
    "z,cov = np.polyfit(xv4,yv4,1,cov=True)\n",
    "v4_slope1 = z[0]\n",
    "v4_intercept1 = z[1]\n",
    "print (v4_slope1, v4_intercept1)"
   ]
  },
  {
   "cell_type": "code",
   "execution_count": 22,
   "id": "75a7589c",
   "metadata": {},
   "outputs": [
    {
     "name": "stdout",
     "output_type": "stream",
     "text": [
      "0.025412973001086293 -12.29038955469825\n"
     ]
    }
   ],
   "source": [
    "xp1 = P_w_1['Days']\n",
    "yp1 = P_w_1['Philippines_CC_log']\n",
    "ypp1 = P_w_1['Philippines_CC']\n",
    "z,cov = np.polyfit(xp1,yp1,1,cov=True)\n",
    "p1_slope1 = z[0]\n",
    "p1_intercept1 = z[1]\n",
    "print (p1_slope1, p1_intercept1)"
   ]
  },
  {
   "cell_type": "code",
   "execution_count": 23,
   "id": "826b7981",
   "metadata": {},
   "outputs": [
    {
     "name": "stdout",
     "output_type": "stream",
     "text": [
      "0.027265353635654434 -12.610977907716533\n"
     ]
    }
   ],
   "source": [
    "xp2 = P_w_2['Days']\n",
    "yp2 = P_w_2['Philippines_CC_log']\n",
    "ypp2 = P_w_2['Philippines_CC']\n",
    "z,cov = np.polyfit(xp2,yp2,1,cov=True)\n",
    "p2_slope1 = z[0]\n",
    "p2_intercept1 = z[1]\n",
    "print (p2_slope1, p2_intercept1)"
   ]
  },
  {
   "cell_type": "code",
   "execution_count": 24,
   "id": "3f1d5607",
   "metadata": {},
   "outputs": [
    {
     "name": "stdout",
     "output_type": "stream",
     "text": [
      "0.02572480355535928 -12.332244596374116\n"
     ]
    }
   ],
   "source": [
    "xp3 = P_w_3['Days']\n",
    "yp3 = P_w_3['Philippines_CC_log']\n",
    "ypp3 = P_w_3['Philippines_CC']\n",
    "z,cov = np.polyfit(xp3,yp3,1,cov=True)\n",
    "p3_slope1 = z[0]\n",
    "p3_intercept1 = z[1]\n",
    "print (p3_slope1, p3_intercept1)"
   ]
  },
  {
   "cell_type": "code",
   "execution_count": 25,
   "id": "5e5d44b4",
   "metadata": {},
   "outputs": [
    {
     "name": "stdout",
     "output_type": "stream",
     "text": [
      "0.06532866047336137 -16.37580577343387\n"
     ]
    }
   ],
   "source": [
    "xa1 = A_w_1['Days']\n",
    "ya1 = A_w_1['Afghanistan_CC_log']\n",
    "yaa1 = A_w_1['Afghanistan_CC']\n",
    "z,cov = np.polyfit(xa1,ya1,1,cov=True)\n",
    "a1_slope1 = z[0]\n",
    "a1_intercept1 = z[1]\n",
    "print (a1_slope1, a1_intercept1)"
   ]
  },
  {
   "cell_type": "code",
   "execution_count": 26,
   "id": "0e3d22bc",
   "metadata": {},
   "outputs": [
    {
     "name": "stdout",
     "output_type": "stream",
     "text": [
      "0.06019478020924595 -15.589809766988544\n"
     ]
    }
   ],
   "source": [
    "xa2 = A_w_2['Days']\n",
    "ya2 = A_w_2['Afghanistan_CC_log']\n",
    "yaa2 = A_w_2['Afghanistan_CC']\n",
    "z,cov = np.polyfit(xa2,ya2,1,cov=True)\n",
    "a2_slope1 = z[0]\n",
    "a2_intercept1 = z[1]\n",
    "print (a2_slope1, a2_intercept1)"
   ]
  },
  {
   "cell_type": "code",
   "execution_count": 27,
   "id": "c560308d",
   "metadata": {},
   "outputs": [
    {
     "name": "stdout",
     "output_type": "stream",
     "text": [
      "0.06518565364795469 -16.312298611175617\n"
     ]
    }
   ],
   "source": [
    "xa3 = A_w_3['Days']\n",
    "ya3 = A_w_3['Afghanistan_CC_log']\n",
    "yaa2 = A_w_3['Afghanistan_CC']\n",
    "z,cov = np.polyfit(xa3,ya3,1,cov=True)\n",
    "a3_slope1 = z[0]\n",
    "a3_intercept1 = z[1]\n",
    "print (a3_slope1, a3_intercept1)"
   ]
  },
  {
   "cell_type": "code",
   "execution_count": 28,
   "id": "7159f902",
   "metadata": {},
   "outputs": [
    {
     "name": "stdout",
     "output_type": "stream",
     "text": [
      "a_values for Venezuela: 0.1421284025988497 0.14800517558106438 0.12896050660016556 0.1401745920450527\n",
      "a_values for Philippines: 0.1254129730010863 0.12726535363565444 0.12572480355535928\n",
      "a_values for Afghanistan: 0.16532866047336137 0.16019478020924596 0.16518565364795468\n"
     ]
    }
   ],
   "source": [
    "b=0.1\n",
    "a_v1 = v1_slope1 + b\n",
    "a_v2 = v2_slope1 + b\n",
    "a_v3 = v3_slope1 + b\n",
    "a_v4 = v4_slope1 + b\n",
    "a_p1 = p1_slope1 + b\n",
    "a_p2 = p2_slope1 + b\n",
    "a_p3 = p3_slope1 + b\n",
    "a_a1 = a1_slope1 + b\n",
    "a_a2 = a2_slope1 + b\n",
    "a_a3 = a3_slope1 + b\n",
    "print(\"a_values for Venezuela:\",a_v1, a_v2 , a_v3, a_v4)\n",
    "print(\"a_values for Philippines:\",a_p1, a_p2 , a_p3)\n",
    "print(\"a_values for Afghanistan:\",a_a1, a_a2,a_a3 )"
   ]
  },
  {
   "cell_type": "code",
   "execution_count": 29,
   "id": "74e9b476",
   "metadata": {},
   "outputs": [],
   "source": [
    "venezuela = 2556\n",
    "Philippines = 73522\n",
    "Afghanistan = 1415"
   ]
  },
  {
   "cell_type": "code",
   "execution_count": 30,
   "id": "3f78d8da",
   "metadata": {},
   "outputs": [],
   "source": [
    "k2 = 1\n",
    "k3 = 1/50\n",
    "k6 = 1/100\n",
    "ip=0.02"
   ]
  },
  {
   "cell_type": "code",
   "execution_count": 31,
   "id": "94f39c76",
   "metadata": {},
   "outputs": [
    {
     "name": "stdout",
     "output_type": "stream",
     "text": [
      "I(A3):  3.370294207522218e-05\n",
      "R(A3):  2.0297057924777817e-05\n",
      "Sign(A3):  0.999946\n",
      "Sres(A3):  0\n"
     ]
    },
    {
     "data": {
      "image/png": "[encoded data removed]",
      "text/plain": [
       "<Figure size 432x288 with 4 Axes>"
      ]
     },
     "metadata": {
      "needs_background": "light"
     },
     "output_type": "display_data"
    }
   ],
   "source": [
    "R0_v1 = venezuela / 125929581\n",
    "I0_v1 = 0.000054 - R0_v1\n",
    "S0_v1 = 1 - I0_v1 - R0_v1\n",
    "S0res = 0\n",
    "#S0exh23 = 1-S0_aa3-S0res23-I0_aa3-R0_aa3\n",
    "print (\"I(A3): \", I0_v1)\n",
    "print (\"R(A3): \", R0_v1)\n",
    "print (\"Sign(A3): \", S0_v1)\n",
    "print (\"Sres(A3): \", S0res)\n",
    "#print (\"Sexh(A3): \", S0exh23)\n",
    "def deriv(yv1,t,b, a_v1,k2,k3,k6):\n",
    "    #Signa3,Sresa3,Sexha3,Ia3,Ra3 = ya3\n",
    "    S0_v1,S0res,I0_v1,R0_v1 = yv1\n",
    "\n",
    "    Sexhv1 = 1 -yv1[0]-yv1[1]-yv1[2]-yv1[3]\n",
    "    dSigndt = -(a_v1*yv1[0]*yv1[2])-((k2/ip)*yv1[0]*(yv1[2]**2))+(k6*Sexhv1)\n",
    "    dIdt = (a_v1*yv1[0]*yv1[2])+(a_v1*Sexhv1*yv1[2])-(b*yv1[2])\n",
    "    dRdt = b*yv1[2]\n",
    "    dSresdt = ((k2/ip)*yv1[0]*(yv1[2]**2))-(k3*yv1[1])\n",
    "    #dSexhdt = (k3*S0res23)-(a_a3*S0exh23*ia3)-(k6*S0exh23)\n",
    "    return [dSigndt, dSresdt, dIdt,dRdt]\n",
    "t = np.linspace(0, 180, 527)\n",
    "x_initial = S0_v1,S0res,I0_v1, R0_v1\n",
    "solv1 = odeint(deriv, x_initial, t, args=(b, a_v1,k2,k3,k6))\n",
    "Signv1,Sresv1,Iv1,Rv1 = solv1.T\n",
    "dv11 = pd.DataFrame(Signv1)\n",
    "dv12 = pd.DataFrame(Sresv1)\n",
    "dv14 = pd.DataFrame(Iv1)\n",
    "dv15 = pd.DataFrame(Rv1)\n",
    "Venezuela_w1 = pd.concat([dv11, dv12,dv14,dv15], axis=1)\n",
    "Venezuela_w1.columns = ['Sign','Sres','I','R']\n",
    "Venezuela_w1\n",
    "figure, axes = plt.subplots(nrows=2, ncols=2)\n",
    "\n",
    "axes[0, 0].plot(Cumulative_cases_3C['Days'], Cumulative_cases_3C['Venezuela_CC'],color='b')\n",
    "\n",
    "axes[0, 1].plot(Cumulative_cases_3C['Days'], Signv1,color='y')\n",
    "axes[1, 0].plot(Cumulative_cases_3C['Days'], Sresv1,color='r')\n",
    "axes[1, 1].plot(Cumulative_cases_3C['Days'],1 -Signv1-Sresv1-Iv1-Rv1,color='g')\n",
    "plt.xlabel(\"Common X-Axis\")\n",
    "plt.ylabel(\"Common Y-Axis\")\n",
    "axes[0, 0].title.set_text(\"Observed\")\n",
    "axes[0, 1].title.set_text(\"Sign\")\n",
    "axes[1, 0].title.set_text(\"Sres\")\n",
    "axes[1, 1].title.set_text(\"Sexp\")\n"
   ]
  },
  {
   "cell_type": "code",
   "execution_count": 32,
   "id": "3a603597",
   "metadata": {},
   "outputs": [
    {
     "name": "stderr",
     "output_type": "stream",
     "text": [
      "<ipython-input-32-006f62082002>:2: MatplotlibDeprecationWarning: Adding an axes using the same arguments as a previous axes currently reuses the earlier instance.  In a future version, a new instance will always be created and returned.  Meanwhile, this warning can be suppressed, and the future behavior ensured, by passing a unique label to each axes instance.\n",
      "  ax2 = plt.axes()\n"
     ]
    },
    {
     "data": {
      "text/plain": [
       "<matplotlib.legend.Legend at 0x7fd00062b520>"
      ]
     },
     "execution_count": 32,
     "metadata": {},
     "output_type": "execute_result"
    },
    {
     "data": {
      "image/png": "[encoded data removed]",
      "text/plain": [
       "<Figure size 432x288 with 1 Axes>"
      ]
     },
     "metadata": {
      "needs_background": "light"
     },
     "output_type": "display_data"
    }
   ],
   "source": [
    "ax1 = plt.axes() \n",
    "ax2 = plt.axes()\n",
    "ax1.plot(Cumulative_cases_3C['Days'],Iv1*2, label=\"I*2\")\n",
    "ax2.plot(Cumulative_cases_3C['Days'],Iv1/2, label=\"I/2\")\n",
    "ax1.title.set_text(\"I value for Japan wave 1\")\n",
    "plt.xlabel(\"Days\")\n",
    "plt.ylabel(\"Cummulative Cases\")\n",
    "ax1.legend(loc='upper left')"
   ]
  },
  {
   "cell_type": "code",
   "execution_count": 33,
   "id": "1d1f3f47",
   "metadata": {},
   "outputs": [
    {
     "name": "stdout",
     "output_type": "stream",
     "text": [
      "I(A3):  9.270294207522218e-05\n",
      "R(A3):  2.0297057924777817e-05\n",
      "Sign(A3):  0.9998870000000001\n",
      "Sres(A3):  0\n"
     ]
    },
    {
     "data": {
      "image/png": "[encoded data removed]",
      "text/plain": [
       "<Figure size 432x288 with 4 Axes>"
      ]
     },
     "metadata": {
      "needs_background": "light"
     },
     "output_type": "display_data"
    }
   ],
   "source": [
    "R0_v2 = venezuela / 125929581\n",
    "I0_v2 = 0.000113 - R0_v2\n",
    "S0_v2 = 1 - I0_v2 - R0_v2\n",
    "S0res2 = 0\n",
    "#S0exh23 = 1-S0_aa3-S0res23-I0_aa3-R0_aa3\n",
    "print (\"I(A3): \", I0_v2)\n",
    "print (\"R(A3): \", R0_v2)\n",
    "print (\"Sign(A3): \", S0_v2)\n",
    "print (\"Sres(A3): \", S0res2)\n",
    "#print (\"Sexh(A3): \", S0exh23)\n",
    "def deriv(yv2,t,b, a_v2,k2,k3,k6):\n",
    "    #Signa3,Sresa3,Sexha3,Ia3,Ra3 = ya3\n",
    "    S0_v2,S0res2,I0_v2,R0_v2 = yv2\n",
    "\n",
    "    Sexhv2 = 1 -yv2[0]-yv2[1]-yv2[2]-yv2[3]\n",
    "    dSigndt = -(a_v2*yv2[0]*yv2[2])-((k2/ip)*yv2[0]*(yv2[2]**2))+(k6*Sexhv2)\n",
    "    dIdt = (a_v2*yv2[0]*yv2[2])+(a_v2*Sexhv2*yv2[2])-(b*yv2[2])\n",
    "    dRdt = b*yv2[2]\n",
    "    dSresdt = ((k2/ip)*yv2[0]*(yv2[2]**2))-(k3*yv2[1])\n",
    "    #dSexhdt = (k3*S0res23)-(a_a3*S0exh23*ia3)-(k6*S0exh23)\n",
    "    return [dSigndt, dSresdt, dIdt,dRdt]\n",
    "t = np.linspace(0, 180, 527)\n",
    "x_initial = S0_v2,S0res2,I0_v2, R0_v2\n",
    "solv2 = odeint(deriv, x_initial, t, args=(b, a_v2,k2,k3,k6))\n",
    "Signv2,Sresv2,Iv2,Rv2 = solv2.T\n",
    "dv21 = pd.DataFrame(Signv2)\n",
    "dv22 = pd.DataFrame(Sresv2)\n",
    "dv24 = pd.DataFrame(Iv2)\n",
    "dv25 = pd.DataFrame(Rv2)\n",
    "Venezuela_w2 = pd.concat([dv21, dv22,dv24,dv25], axis=1)\n",
    "Venezuela_w2.columns = ['Sign','Sres','I','R']\n",
    "Venezuela_w2\n",
    "figure, axes = plt.subplots(nrows=2, ncols=2)\n",
    "\n",
    "axes[0, 0].plot(Cumulative_cases_3C['Days'], Cumulative_cases_3C['Venezuela_CC'],color='b')\n",
    "\n",
    "axes[0, 1].plot(Cumulative_cases_3C['Days'], Signv2,color='y')\n",
    "axes[1, 0].plot(Cumulative_cases_3C['Days'], Sresv2,color='r')\n",
    "axes[1, 1].plot(Cumulative_cases_3C['Days'],1 -Signv2-Sresv2-Iv2-Rv2,color='g')\n",
    "plt.xlabel(\"Common X-Axis\")\n",
    "plt.ylabel(\"Common Y-Axis\")\n",
    "axes[0, 0].title.set_text(\"Observed\")\n",
    "axes[0, 1].title.set_text(\"Sign\")\n",
    "axes[1, 0].title.set_text(\"Sres\")\n",
    "axes[1, 1].title.set_text(\"Sexp\")\n"
   ]
  },
  {
   "cell_type": "code",
   "execution_count": 34,
   "id": "f0746985",
   "metadata": {},
   "outputs": [
    {
     "name": "stderr",
     "output_type": "stream",
     "text": [
      "<ipython-input-34-99048196c4d5>:2: MatplotlibDeprecationWarning: Adding an axes using the same arguments as a previous axes currently reuses the earlier instance.  In a future version, a new instance will always be created and returned.  Meanwhile, this warning can be suppressed, and the future behavior ensured, by passing a unique label to each axes instance.\n",
      "  ax2 = plt.axes()\n"
     ]
    },
    {
     "data": {
      "text/plain": [
       "<matplotlib.legend.Legend at 0x7fd02096fc70>"
      ]
     },
     "execution_count": 34,
     "metadata": {},
     "output_type": "execute_result"
    },
    {
     "data": {
      "image/png": "[encoded data removed]",
      "text/plain": [
       "<Figure size 432x288 with 1 Axes>"
      ]
     },
     "metadata": {
      "needs_background": "light"
     },
     "output_type": "display_data"
    }
   ],
   "source": [
    "ax1 = plt.axes() \n",
    "ax2 = plt.axes()\n",
    "ax1.plot(Cumulative_cases_3C['Days'],Iv2*2, label=\"I*2\")\n",
    "ax2.plot(Cumulative_cases_3C['Days'],Iv2/2, label=\"I/2\")\n",
    "ax1.title.set_text(\"I value for Japan wave 2\")\n",
    "plt.xlabel(\"Days\")\n",
    "plt.ylabel(\"Cummulative Cases\")\n",
    "ax1.legend(loc='upper left')"
   ]
  },
  {
   "cell_type": "code",
   "execution_count": 35,
   "id": "78a8f47f",
   "metadata": {},
   "outputs": [
    {
     "name": "stdout",
     "output_type": "stream",
     "text": [
      "I(A3):  0.0001787029420752222\n",
      "R(A3):  2.0297057924777817e-05\n",
      "Sign(A3):  0.999801\n",
      "Sres(A3):  0\n"
     ]
    },
    {
     "data": {
      "image/png": "[encoded data removed]",
      "text/plain": [
       "<Figure size 432x288 with 4 Axes>"
      ]
     },
     "metadata": {
      "needs_background": "light"
     },
     "output_type": "display_data"
    }
   ],
   "source": [
    "R0_v3 = venezuela / 125929581\n",
    "I0_v3 = 0.000199 - R0_v3\n",
    "S0_v3 = 1 - I0_v3 - R0_v3\n",
    "S0res3 = 0\n",
    "#S0exh23 = 1-S0_aa3-S0res23-I0_aa3-R0_aa3\n",
    "print (\"I(A3): \", I0_v3)\n",
    "print (\"R(A3): \", R0_v3)\n",
    "print (\"Sign(A3): \", S0_v3)\n",
    "print (\"Sres(A3): \", S0res3)\n",
    "#print (\"Sexh(A3): \", S0exh23)\n",
    "def deriv(yv3,t,b, a_v3,k2,k3,k6):\n",
    "    #Signa3,Sresa3,Sexha3,Ia3,Ra3 = ya3\n",
    "    S0_v3,S0res3,I0_v3,R0_v3 = yv3\n",
    "\n",
    "    Sexhv3 = 1 -yv3[0]-yv3[1]-yv3[2]-yv3[3]\n",
    "    dSigndt = -(a_v3*yv3[0]*yv3[2])-((k2/ip)*yv3[0]*(yv3[2]**2))+(k6*Sexhv3)\n",
    "    dIdt = (a_v3*yv3[0]*yv3[2])+(a_v3*Sexhv3*yv3[2])-(b*yv3[2])\n",
    "    dRdt = b*yv3[2]\n",
    "    dSresdt = ((k2/ip)*yv3[0]*(yv3[2]**2))-(k3*yv3[1])\n",
    "    #dSexhdt = (k3*S0res23)-(a_a3*S0exh23*ia3)-(k6*S0exh23)\n",
    "    return [dSigndt, dSresdt, dIdt,dRdt]\n",
    "t = np.linspace(0, 180, 527)\n",
    "x_initial = S0_v3,S0res3,I0_v3, R0_v3\n",
    "solv3 = odeint(deriv, x_initial, t, args=(b, a_v3,k2,k3,k6))\n",
    "Signv3,Sresv3,Iv3,Rv3 = solv3.T\n",
    "dv31 = pd.DataFrame(Signv3)\n",
    "dv32 = pd.DataFrame(Sresv3)\n",
    "dv34 = pd.DataFrame(Iv3)\n",
    "dv35 = pd.DataFrame(Rv3)\n",
    "Venezuela_w3 = pd.concat([dv31, dv32,dv34,dv35], axis=1)\n",
    "Venezuela_w3.columns = ['Sign','Sres','I','R']\n",
    "Venezuela_w3\n",
    "figure, axes = plt.subplots(nrows=2, ncols=2)\n",
    "\n",
    "axes[0, 0].plot(Cumulative_cases_3C['Days'], Cumulative_cases_3C['Venezuela_CC'],color='b')\n",
    "\n",
    "axes[0, 1].plot(Cumulative_cases_3C['Days'], Signv3,color='y')\n",
    "axes[1, 0].plot(Cumulative_cases_3C['Days'], Sresv3,color='r')\n",
    "axes[1, 1].plot(Cumulative_cases_3C['Days'],1 -Signv3-Sresv3-Iv3-Rv3,color='g')\n",
    "plt.xlabel(\"Common X-Axis\")\n",
    "plt.ylabel(\"Common Y-Axis\")\n",
    "axes[0, 0].title.set_text(\"Observed\")\n",
    "axes[0, 1].title.set_text(\"Sign\")\n",
    "axes[1, 0].title.set_text(\"Sres\")\n",
    "axes[1, 1].title.set_text(\"Sexp\")\n"
   ]
  },
  {
   "cell_type": "code",
   "execution_count": 36,
   "id": "cc630797",
   "metadata": {},
   "outputs": [
    {
     "name": "stderr",
     "output_type": "stream",
     "text": [
      "<ipython-input-36-0671afae0f8e>:2: MatplotlibDeprecationWarning: Adding an axes using the same arguments as a previous axes currently reuses the earlier instance.  In a future version, a new instance will always be created and returned.  Meanwhile, this warning can be suppressed, and the future behavior ensured, by passing a unique label to each axes instance.\n",
      "  ax2 = plt.axes()\n"
     ]
    },
    {
     "data": {
      "text/plain": [
       "<matplotlib.legend.Legend at 0x7fd01095bfa0>"
      ]
     },
     "execution_count": 36,
     "metadata": {},
     "output_type": "execute_result"
    },
    {
     "data": {
      "image/png": "[encoded data removed]",
      "text/plain": [
       "<Figure size 432x288 with 1 Axes>"
      ]
     },
     "metadata": {
      "needs_background": "light"
     },
     "output_type": "display_data"
    }
   ],
   "source": [
    "ax1 = plt.axes() \n",
    "ax2 = plt.axes()\n",
    "ax1.plot(Cumulative_cases_3C['Days'],Iv3*2, label=\"I*2\")\n",
    "ax2.plot(Cumulative_cases_3C['Days'],Iv3/2, label=\"I/2\")\n",
    "ax1.title.set_text(\"I value for Japan wave 3\")\n",
    "plt.xlabel(\"Days\")\n",
    "plt.ylabel(\"Cummulative Cases\")\n",
    "ax1.legend(loc='upper left')"
   ]
  },
  {
   "cell_type": "code",
   "execution_count": 37,
   "id": "93f068ea",
   "metadata": {},
   "outputs": [
    {
     "name": "stdout",
     "output_type": "stream",
     "text": [
      "I(A3):  3.370294207522218e-05\n",
      "R(A3):  2.0297057924777817e-05\n",
      "Sign(A3):  0.999946\n",
      "Sres(A3):  0\n"
     ]
    },
    {
     "data": {
      "image/png": "[encoded data removed]",
      "text/plain": [
       "<Figure size 432x288 with 4 Axes>"
      ]
     },
     "metadata": {
      "needs_background": "light"
     },
     "output_type": "display_data"
    }
   ],
   "source": [
    "R0_v4 = venezuela / 125929581\n",
    "I0_v4 = 0.000054 - R0_v4\n",
    "S0_v4 = 1 - I0_v4 - R0_v4\n",
    "S0res4 = 0\n",
    "ip=0.02\n",
    "#S0exh23 = 1-S0_aa3-S0res23-I0_aa3-R0_aa3\n",
    "print (\"I(A3): \", I0_v4)\n",
    "print (\"R(A3): \", R0_v4)\n",
    "print (\"Sign(A3): \", S0_v4)\n",
    "print (\"Sres(A3): \", S0res4)\n",
    "#print (\"Sexh(A3): \", S0exh23)\n",
    "def deriv(yv4,t,b, a_v4,k2,k3,k6):\n",
    "    #Signa3,Sresa3,Sexha3,Ia3,Ra3 = ya3\n",
    "    S0_v4,S0res4,I0_v4,R0_v4 = yv4\n",
    "\n",
    "    Sexhv4 = 1 -yv4[0]-yv4[1]-yv4[2]-yv4[3]\n",
    "    dSigndt = -(a_v4*yv4[0]*yv4[2])-((k2/ip)*yv4[0]*(yv4[2]**2))+(k6*Sexhv4)\n",
    "    dIdt = (a_v4*yv4[0]*yv4[2])+(a_v4*Sexhv4*yv4[2])-(b*yv4[2])\n",
    "    dRdt = b*yv4[2]\n",
    "    dSresdt = ((k2/ip)*yv4[0]*(yv4[2]**2))-(k3*yv4[1])\n",
    "    #dSexhdt = (k3*S0res23)-(a_a3*S0exh23*ia3)-(k6*S0exh23)\n",
    "    return [dSigndt, dSresdt, dIdt,dRdt]\n",
    "t = np.linspace(0, 180, 527)\n",
    "x_initial = S0_v4,S0res4,I0_v4, R0_v4\n",
    "solv4 = odeint(deriv, x_initial, t, args=(b, a_v4,k2,k3,k6))\n",
    "Signv4,Sresv4,Iv4,Rv4 = solv4.T\n",
    "dv41 = pd.DataFrame(Signv4)\n",
    "dv42 = pd.DataFrame(Sresv4)\n",
    "dv44 = pd.DataFrame(Iv4)\n",
    "dv45 = pd.DataFrame(Rv4)\n",
    "Venezuela_w4 = pd.concat([dv41, dv42,dv44,dv45], axis=1)\n",
    "Venezuela_w4.columns = ['Sign','Sres','I','R']\n",
    "Venezuela_w4\n",
    "figure, axes = plt.subplots(nrows=2, ncols=2)\n",
    "\n",
    "axes[0, 0].plot(Cumulative_cases_3C['Days'], Cumulative_cases_3C['Venezuela_CC'],color='b')\n",
    "\n",
    "axes[0, 1].plot(Cumulative_cases_3C['Days'], Signv4,color='y')\n",
    "axes[1, 0].plot(Cumulative_cases_3C['Days'], Sresv4,color='r')\n",
    "axes[1, 1].plot(Cumulative_cases_3C['Days'],1 -Signv4-Sresv4-Iv4-Rv4,color='g')\n",
    "plt.xlabel(\"Common X-Axis\")\n",
    "plt.ylabel(\"Common Y-Axis\")\n",
    "axes[0, 0].title.set_text(\"Observed\")\n",
    "axes[0, 1].title.set_text(\"Sign\")\n",
    "axes[1, 0].title.set_text(\"Sres\")\n",
    "axes[1, 1].title.set_text(\"Sexp\")\n"
   ]
  },
  {
   "cell_type": "code",
   "execution_count": 38,
   "id": "90e38508",
   "metadata": {
    "scrolled": true
   },
   "outputs": [
    {
     "name": "stderr",
     "output_type": "stream",
     "text": [
      "<ipython-input-38-b74979d34a15>:2: MatplotlibDeprecationWarning: Adding an axes using the same arguments as a previous axes currently reuses the earlier instance.  In a future version, a new instance will always be created and returned.  Meanwhile, this warning can be suppressed, and the future behavior ensured, by passing a unique label to each axes instance.\n",
      "  ax2 = plt.axes()\n"
     ]
    },
    {
     "data": {
      "text/plain": [
       "<matplotlib.legend.Legend at 0x7fd010f6ebe0>"
      ]
     },
     "execution_count": 38,
     "metadata": {},
     "output_type": "execute_result"
    },
    {
     "data": {
      "image/png": "[encoded data removed]",
      "text/plain": [
       "<Figure size 432x288 with 1 Axes>"
      ]
     },
     "metadata": {
      "needs_background": "light"
     },
     "output_type": "display_data"
    }
   ],
   "source": [
    "ax1 = plt.axes() \n",
    "ax2 = plt.axes()\n",
    "ax1.plot(Cumulative_cases_3C['Days'],Iv4*2, label=\"I*2\")\n",
    "ax2.plot(Cumulative_cases_3C['Days'],Iv4/2, label=\"I/2\")\n",
    "ax1.title.set_text(\"I value for Japan wave 4\")\n",
    "plt.xlabel(\"Days\")\n",
    "plt.ylabel(\"Cummulative Cases\")\n",
    "ax1.legend(loc='upper left')"
   ]
  },
  {
   "cell_type": "code",
   "execution_count": 39,
   "id": "564dbc04",
   "metadata": {},
   "outputs": [
    {
     "name": "stdout",
     "output_type": "stream",
     "text": [
      "I(A3):  0.0005574756806965762\n",
      "R(A3):  0.0008735243193034237\n",
      "Sign(A3):  0.998569\n",
      "Sres(A3):  0\n"
     ]
    },
    {
     "data": {
      "image/png": "[encoded data removed]",
      "text/plain": [
       "<Figure size 432x288 with 4 Axes>"
      ]
     },
     "metadata": {
      "needs_background": "light"
     },
     "output_type": "display_data"
    }
   ],
   "source": [
    "R0_pa1 = Philippines / 84167090\n",
    "I0_pa1 = 0.001431 - R0_pa1\n",
    "S0_pa1 = 1 - I0_pa1 - R0_pa1\n",
    "S0res11 = 0\n",
    "#S0exh23 = 1-S0_aa3-S0res23-I0_aa3-R0_aa3\n",
    "print (\"I(A3): \", I0_pa1)\n",
    "print (\"R(A3): \", R0_pa1)\n",
    "print (\"Sign(A3): \", S0_pa1)\n",
    "print (\"Sres(A3): \", S0res11)\n",
    "#print (\"Sexh(A3): \", S0exh23)\n",
    "def deriv(yp1,t,b, a_p1,k2,k3,k6):\n",
    "    #Signa3,Sresa3,Sexha3,Ia3,Ra3 = ya3\n",
    "    S0_pa1,S0res11,I0_pa1,R0_pa1 = yp1\n",
    "\n",
    "    Sexhp1 = 1 -yp1[0]-yp1[1]-yp1[2]-yp1[3]\n",
    "    dSigndt = -(a_p1*yp1[0]*yp1[2])-((k2/ip)*yp1[0]*(yp1[2]**2))+(k6*Sexhp1)\n",
    "    dIdt = (a_p1*yp1[0]*yp1[2])+(a_p1*Sexhp1*yp1[2])-(b*yp1[2])\n",
    "    dRdt = b*yp1[2]\n",
    "    dSresdt = ((k2/ip)*yp1[0]*(yp1[2]**2))-(k3*yp1[1])\n",
    "    #dSexhdt = (k3*S0res23)-(a_a3*S0exh23*ia3)-(k6*S0exh23)\n",
    "    return [dSigndt, dSresdt, dIdt,dRdt]\n",
    "t = np.linspace(0, 180, 527)\n",
    "x_initial = S0_pa1,S0res11,I0_pa1, R0_pa1\n",
    "solp1 = odeint(deriv, x_initial, t, args=(b, a_p1,k2,k3,k6))\n",
    "Signp1,Sresp1,Ip1,Rp1 = solp1.T\n",
    "dp11 = pd.DataFrame(Signp1)\n",
    "dp12 = pd.DataFrame(Sresp1)\n",
    "dp14 = pd.DataFrame(Ip1)\n",
    "dp15 = pd.DataFrame(Rp1)\n",
    "Philippines_w1 = pd.concat([dp11, dp12,dp14,dp15], axis=1)\n",
    "Philippines_w1.columns = ['Sign','Sres','I','R']\n",
    "Philippines_w1\n",
    "figure, axes = plt.subplots(nrows=2, ncols=2)\n",
    "\n",
    "axes[0, 0].plot(Cumulative_cases_3C['Days'], Cumulative_cases_3C['Philippines_CC'],color='b')\n",
    "\n",
    "axes[0, 1].plot(Cumulative_cases_3C['Days'], Signp1,color='y')\n",
    "axes[1, 0].plot(Cumulative_cases_3C['Days'], Sresp1,color='r')\n",
    "axes[1, 1].plot(Cumulative_cases_3C['Days'],1 -Signp1-Sresp1-Ip1-Rp1,color='g')\n",
    "plt.xlabel(\"Common X-Axis\")\n",
    "plt.ylabel(\"Common Y-Axis\")\n",
    "axes[0, 0].title.set_text(\"Observed\")\n",
    "axes[0, 1].title.set_text(\"Sign\")\n",
    "axes[1, 0].title.set_text(\"Sres\")\n",
    "axes[1, 1].title.set_text(\"Sexp\")\n"
   ]
  },
  {
   "cell_type": "code",
   "execution_count": 40,
   "id": "2c946641",
   "metadata": {},
   "outputs": [
    {
     "name": "stderr",
     "output_type": "stream",
     "text": [
      "<ipython-input-40-c9f84e7786bc>:2: MatplotlibDeprecationWarning: Adding an axes using the same arguments as a previous axes currently reuses the earlier instance.  In a future version, a new instance will always be created and returned.  Meanwhile, this warning can be suppressed, and the future behavior ensured, by passing a unique label to each axes instance.\n",
      "  ax2 = plt.axes()\n"
     ]
    },
    {
     "data": {
      "text/plain": [
       "<matplotlib.legend.Legend at 0x7fd0008ffb20>"
      ]
     },
     "execution_count": 40,
     "metadata": {},
     "output_type": "execute_result"
    },
    {
     "data": {
      "image/png": "[encoded data removed]",
      "text/plain": [
       "<Figure size 432x288 with 1 Axes>"
      ]
     },
     "metadata": {
      "needs_background": "light"
     },
     "output_type": "display_data"
    }
   ],
   "source": [
    "ax1 = plt.axes() \n",
    "ax2 = plt.axes()\n",
    "ax1.plot(Cumulative_cases_3C['Days'],Ip1*2, label=\"I*2\")\n",
    "ax2.plot(Cumulative_cases_3C['Days'],Ip1/2, label=\"I/2\")\n",
    "ax1.title.set_text(\"I value for Germany wave 1\")\n",
    "plt.xlabel(\"Days\")\n",
    "plt.ylabel(\"Cummulative Cases\")\n",
    "ax1.legend(loc='upper left')"
   ]
  },
  {
   "cell_type": "code",
   "execution_count": 41,
   "id": "47d5c04d",
   "metadata": {},
   "outputs": [
    {
     "name": "stdout",
     "output_type": "stream",
     "text": [
      "I(A3):  0.0013224756806965764\n",
      "R(A3):  0.0008735243193034237\n",
      "Sign(A3):  0.997804\n",
      "Sres(A3):  0\n"
     ]
    },
    {
     "data": {
      "image/png": "[encoded data removed]",
      "text/plain": [
       "<Figure size 432x288 with 4 Axes>"
      ]
     },
     "metadata": {
      "needs_background": "light"
     },
     "output_type": "display_data"
    }
   ],
   "source": [
    "R0_pa2 = Philippines / 84167090\n",
    "I0_pa2 = 0.002196 - R0_pa2\n",
    "S0_pa2 = 1 - I0_pa2 - R0_pa2\n",
    "S0res12 = 0\n",
    "ip=0.02\n",
    "#S0exh23 = 1-S0_aa3-S0res23-I0_aa3-R0_aa3\n",
    "print (\"I(A3): \", I0_pa2)\n",
    "print (\"R(A3): \", R0_pa2)\n",
    "print (\"Sign(A3): \", S0_pa2)\n",
    "print (\"Sres(A3): \", S0res12)\n",
    "#print (\"Sexh(A3): \", S0exh23)\n",
    "def deriv(yp2,t,b, a_p2,k2,k3,k6):\n",
    "    #Signa3,Sresa3,Sexha3,Ia3,Ra3 = ya3\n",
    "    S0_pa2,S0res12,I0_pa2,R0_pa2 = yp2\n",
    "\n",
    "    Sexhp2 = 1 -yp2[0]-yp2[1]-yp2[2]-yp2[3]\n",
    "    dSigndt = -(a_p2*yp2[0]*yp2[2])-((k2/ip)*yp2[0]*(yp2[2]**2))+(k6*Sexhp2)\n",
    "    dIdt = (a_p2*yp2[0]*yp2[2])+(a_p2*Sexhp2*yp2[2])-(b*yp2[2])\n",
    "    dRdt = b*yp2[2]\n",
    "    dSresdt = ((k2/ip)*yp2[0]*(yp2[2]**2))-(k3*yp2[1])\n",
    "    #dSexhdt = (k3*S0res23)-(a_a3*S0exh23*ia3)-(k6*S0exh23)\n",
    "    return [dSigndt, dSresdt, dIdt,dRdt]\n",
    "t = np.linspace(0, 180, 527)\n",
    "x_initial = S0_pa2,S0res12,I0_pa2, R0_pa2\n",
    "solp2 = odeint(deriv, x_initial, t, args=(b, a_p2,k2,k3,k6))\n",
    "Signp2,Sresp2,Ip2,Rp2 = solp2.T\n",
    "dp21 = pd.DataFrame(Signp2)\n",
    "dp22 = pd.DataFrame(Sresp2)\n",
    "dp24 = pd.DataFrame(Ip2)\n",
    "dp25 = pd.DataFrame(Rp2)\n",
    "Philippines_w2 = pd.concat([dp21, dp22,dp24,dp25], axis=1)\n",
    "Philippines_w2.columns = ['Sign','Sres','I','R']\n",
    "Philippines_w2\n",
    "figure, axes = plt.subplots(nrows=2, ncols=2)\n",
    "\n",
    "axes[0, 0].plot(Cumulative_cases_3C['Days'], Cumulative_cases_3C['Philippines_CC'],color='b')\n",
    "\n",
    "axes[0, 1].plot(Cumulative_cases_3C['Days'], Signp2,color='y')\n",
    "axes[1, 0].plot(Cumulative_cases_3C['Days'], Sresp2,color='r')\n",
    "axes[1, 1].plot(Cumulative_cases_3C['Days'],1 -Signp2-Sresp2-Ip2-Rp2,color='g')\n",
    "plt.xlabel(\"Common X-Axis\")\n",
    "plt.ylabel(\"Common Y-Axis\")\n",
    "axes[0, 0].title.set_text(\"Observed\")\n",
    "axes[0, 1].title.set_text(\"Sign\")\n",
    "axes[1, 0].title.set_text(\"Sres\")\n",
    "axes[1, 1].title.set_text(\"Sexp\")\n"
   ]
  },
  {
   "cell_type": "code",
   "execution_count": 42,
   "id": "48d3d08a",
   "metadata": {},
   "outputs": [
    {
     "name": "stderr",
     "output_type": "stream",
     "text": [
      "<ipython-input-42-c501b6b4dbe1>:2: MatplotlibDeprecationWarning: Adding an axes using the same arguments as a previous axes currently reuses the earlier instance.  In a future version, a new instance will always be created and returned.  Meanwhile, this warning can be suppressed, and the future behavior ensured, by passing a unique label to each axes instance.\n",
      "  ax2 = plt.axes()\n"
     ]
    },
    {
     "data": {
      "text/plain": [
       "<matplotlib.legend.Legend at 0x7fd020bf41f0>"
      ]
     },
     "execution_count": 42,
     "metadata": {},
     "output_type": "execute_result"
    },
    {
     "data": {
      "image/png": "[encoded data removed]",
      "text/plain": [
       "<Figure size 432x288 with 1 Axes>"
      ]
     },
     "metadata": {
      "needs_background": "light"
     },
     "output_type": "display_data"
    }
   ],
   "source": [
    "ax1 = plt.axes() \n",
    "ax2 = plt.axes()\n",
    "ax1.plot(Cumulative_cases_3C['Days'],Ip2*2, label=\"I*2\")\n",
    "ax2.plot(Cumulative_cases_3C['Days'],Ip2/2, label=\"I/2\")\n",
    "ax1.title.set_text(\"I value for Germany wave 2\")\n",
    "plt.xlabel(\"Days\")\n",
    "plt.ylabel(\"Cummulative Cases\")\n",
    "ax1.legend(loc='upper left')"
   ]
  },
  {
   "cell_type": "code",
   "execution_count": 43,
   "id": "3611a8a5",
   "metadata": {},
   "outputs": [
    {
     "name": "stdout",
     "output_type": "stream",
     "text": [
      "I(A3):  0.0005574756806965762\n",
      "R(A3):  0.0008735243193034237\n",
      "Sign(A3):  0.998569\n",
      "Sres(A3):  0\n"
     ]
    },
    {
     "data": {
      "image/png": "[encoded data removed]",
      "text/plain": [
       "<Figure size 432x288 with 4 Axes>"
      ]
     },
     "metadata": {
      "needs_background": "light"
     },
     "output_type": "display_data"
    }
   ],
   "source": [
    "R0_pa3 = Philippines / 84167090\n",
    "I0_pa3 = 0.001431 - R0_pa3\n",
    "S0_pa3 = 1 - I0_pa3 - R0_pa3\n",
    "S0res13 = 0\n",
    "ip=0.02\n",
    "#S0exh23 = 1-S0_aa3-S0res23-I0_aa3-R0_aa3\n",
    "print (\"I(A3): \", I0_pa3)\n",
    "print (\"R(A3): \", R0_pa3)\n",
    "print (\"Sign(A3): \", S0_pa3)\n",
    "print (\"Sres(A3): \", S0res13)\n",
    "#print (\"Sexh(A3): \", S0exh23)\n",
    "def deriv(yp3,t,b, a_p3,k2,k3,k6):\n",
    "    #Signa3,Sresa3,Sexha3,Ia3,Ra3 = ya3\n",
    "    S0_pa3,S0res13,I0_pa3,R0_pa3 = yp3\n",
    "\n",
    "    Sexhp3 = 1 -yp3[0]-yp3[1]-yp3[2]-yp3[3]\n",
    "    dSigndt = -(a_p3*yp3[0]*yp3[2])-((k2/ip)*yp3[0]*(yp3[2]**2))+(k6*Sexhp3)\n",
    "    dIdt = (a_p3*yp3[0]*yp3[2])+(a_p3*Sexhp3*yp3[2])-(b*yp3[2])\n",
    "    dRdt = b*yp3[2]\n",
    "    dSresdt = ((k2/ip)*yp3[0]*(yp3[2]**2))-(k3*yp3[1])\n",
    "    #dSexhdt = (k3*S0res23)-(a_a3*S0exh23*ia3)-(k6*S0exh23)\n",
    "    return [dSigndt, dSresdt, dIdt,dRdt]\n",
    "t = np.linspace(0, 180, 527)\n",
    "x_initial = S0_pa3,S0res13,I0_pa3, R0_pa3\n",
    "solp3 = odeint(deriv, x_initial, t, args=(b, a_p3,k2,k3,k6))\n",
    "Signp3,Sresp3,Ip3,Rp3 = solp3.T\n",
    "dp31 = pd.DataFrame(Signp3)\n",
    "dp32 = pd.DataFrame(Sresp3)\n",
    "dp34 = pd.DataFrame(Ip3)\n",
    "dp35 = pd.DataFrame(Rp3)\n",
    "Philippines_w3 = pd.concat([dp31, dp32,dp34,dp35], axis=1)\n",
    "Philippines_w3.columns = ['Sign','Sres','I','R']\n",
    "Philippines_w3\n",
    "figure, axes = plt.subplots(nrows=2, ncols=2)\n",
    "\n",
    "axes[0, 0].plot(Cumulative_cases_3C['Days'], Cumulative_cases_3C['Philippines_CC'],color='b')\n",
    "\n",
    "axes[0, 1].plot(Cumulative_cases_3C['Days'], Signp3,color='y')\n",
    "axes[1, 0].plot(Cumulative_cases_3C['Days'], Sresp3,color='r')\n",
    "axes[1, 1].plot(Cumulative_cases_3C['Days'],1 -Signp3-Sresp3-Ip3-Rp3,color='g')\n",
    "plt.xlabel(\"Common X-Axis\")\n",
    "plt.ylabel(\"Common Y-Axis\")\n",
    "axes[0, 0].title.set_text(\"Observed\")\n",
    "axes[0, 1].title.set_text(\"Sign\")\n",
    "axes[1, 0].title.set_text(\"Sres\")\n",
    "axes[1, 1].title.set_text(\"Sexp\")\n"
   ]
  },
  {
   "cell_type": "code",
   "execution_count": 44,
   "id": "8e8a497d",
   "metadata": {},
   "outputs": [
    {
     "name": "stderr",
     "output_type": "stream",
     "text": [
      "<ipython-input-44-d38d62a28eca>:2: MatplotlibDeprecationWarning: Adding an axes using the same arguments as a previous axes currently reuses the earlier instance.  In a future version, a new instance will always be created and returned.  Meanwhile, this warning can be suppressed, and the future behavior ensured, by passing a unique label to each axes instance.\n",
      "  ax2 = plt.axes()\n"
     ]
    },
    {
     "data": {
      "text/plain": [
       "<matplotlib.legend.Legend at 0x7fcff286b4f0>"
      ]
     },
     "execution_count": 44,
     "metadata": {},
     "output_type": "execute_result"
    },
    {
     "data": {
      "image/png": "[encoded data removed]",
      "text/plain": [
       "<Figure size 432x288 with 1 Axes>"
      ]
     },
     "metadata": {
      "needs_background": "light"
     },
     "output_type": "display_data"
    }
   ],
   "source": [
    "ax1 = plt.axes() \n",
    "ax2 = plt.axes()\n",
    "ax1.plot(Cumulative_cases_3C['Days'],Ip3*2, label=\"I*2\")\n",
    "ax2.plot(Cumulative_cases_3C['Days'],Ip3/2, label=\"I/2\")\n",
    "ax1.title.set_text(\"I value for Germany wave 3\")\n",
    "plt.xlabel(\"Days\")\n",
    "plt.ylabel(\"Cummulative Cases\")\n",
    "ax1.legend(loc='upper left')"
   ]
  },
  {
   "cell_type": "code",
   "execution_count": 45,
   "id": "ae98836a",
   "metadata": {},
   "outputs": [
    {
     "name": "stdout",
     "output_type": "stream",
     "text": [
      "I(A3):  6.430352770605641e-05\n",
      "R(A3):  0.0001366964722939436\n",
      "Sign(A3):  0.999799\n",
      "Sres(A3):  0\n"
     ]
    },
    {
     "data": {
      "image/png": "[encoded data removed]",
      "text/plain": [
       "<Figure size 432x288 with 4 Axes>"
      ]
     },
     "metadata": {
      "needs_background": "light"
     },
     "output_type": "display_data"
    }
   ],
   "source": [
    "R0_aa1 = Afghanistan / 10351401\n",
    "I0_aa1 = 0.000201 - R0_aa1\n",
    "S0_aa1 = 1 - I0_aa1 - R0_aa1\n",
    "S0res21 = 0\n",
    "ip=0.02\n",
    "#S0exh23 = 1-S0_aa3-S0res23-I0_aa3-R0_aa3\n",
    "print (\"I(A3): \", I0_aa1)\n",
    "print (\"R(A3): \", R0_aa1)\n",
    "print (\"Sign(A3): \", S0_aa1)\n",
    "print (\"Sres(A3): \", S0res21)\n",
    "#print (\"Sexh(A3): \", S0exh23)\n",
    "def deriv(ya1,t,b, a_a1,k2,k3,k6):\n",
    "    #Signa3,Sresa3,Sexha3,Ia3,Ra3 = ya3\n",
    "    S0_aa1,S0res21,I0_aa1,R0_aa1 = ya1\n",
    "\n",
    "    Sexha1 = 1 -ya1[0]-ya1[1]-ya1[2]-ya1[3]\n",
    "    dSigndt = -(a_a1*ya1[0]*ya1[2])-((k2/ip)*ya1[0]*(ya1[2]**2))+(k6*Sexha1)\n",
    "    dIdt = (a_a1*ya1[0]*ya1[2])+(a_a1*Sexha1*ya1[2])-(b*ya1[2])\n",
    "    dRdt = b*ya1[2]\n",
    "    dSresdt = ((k2/ip)*ya1[0]*(ya1[2]**2))-(k3*ya1[1])\n",
    "    #dSexhdt = (k3*S0res23)-(a_a3*S0exh23*ia3)-(k6*S0exh23)\n",
    "    return [dSigndt, dSresdt, dIdt,dRdt]\n",
    "t = np.linspace(0, 180, 527)\n",
    "x_initial = S0_aa1,S0res21,I0_aa1, R0_aa1\n",
    "sola1 = odeint(deriv, x_initial, t, args=(b, a_a1,k2,k3,k6))\n",
    "Signa1,Sresa1,Ia1,Ra1 = sola1.T\n",
    "da11 = pd.DataFrame(Signa1)\n",
    "da12 = pd.DataFrame(Sresa1)\n",
    "da14 = pd.DataFrame(Ia1)\n",
    "da15 = pd.DataFrame(Ra1)\n",
    "Afghanisthan_w1 = pd.concat([da11, da12,da14,da15], axis=1)\n",
    "Afghanisthan_w1.columns = ['Sign','Sres','I','R']\n",
    "Afghanisthan_w1\n",
    "figure, axes = plt.subplots(nrows=2, ncols=2)\n",
    "\n",
    "axes[0, 0].plot(Cumulative_cases_3C['Days'], Cumulative_cases_3C['Afghanistan_CC'],color='b')\n",
    "\n",
    "axes[0, 1].plot(Cumulative_cases_3C['Days'], Signa1,color='y')\n",
    "axes[1, 0].plot(Cumulative_cases_3C['Days'], Sresa1,color='r')\n",
    "axes[1, 1].plot(Cumulative_cases_3C['Days'],1 -Signa1-Sresa1-Ia1-Ra1,color='g')\n",
    "plt.xlabel(\"Common X-Axis\")\n",
    "plt.ylabel(\"Common Y-Axis\")\n",
    "axes[0, 0].title.set_text(\"Observed\")\n",
    "axes[0, 1].title.set_text(\"Sign\")\n",
    "axes[1, 0].title.set_text(\"Sres\")\n",
    "axes[1, 1].title.set_text(\"Sexp\")\n"
   ]
  },
  {
   "cell_type": "code",
   "execution_count": 46,
   "id": "863223b4",
   "metadata": {},
   "outputs": [
    {
     "name": "stderr",
     "output_type": "stream",
     "text": [
      "<ipython-input-46-795f524e7486>:2: MatplotlibDeprecationWarning: Adding an axes using the same arguments as a previous axes currently reuses the earlier instance.  In a future version, a new instance will always be created and returned.  Meanwhile, this warning can be suppressed, and the future behavior ensured, by passing a unique label to each axes instance.\n",
      "  ax2 = plt.axes()\n"
     ]
    },
    {
     "data": {
      "text/plain": [
       "<matplotlib.legend.Legend at 0x7fd020a818e0>"
      ]
     },
     "execution_count": 46,
     "metadata": {},
     "output_type": "execute_result"
    },
    {
     "data": {
      "image/png": "[encoded data removed]",
      "text/plain": [
       "<Figure size 432x288 with 1 Axes>"
      ]
     },
     "metadata": {
      "needs_background": "light"
     },
     "output_type": "display_data"
    }
   ],
   "source": [
    "ax1 = plt.axes() \n",
    "ax2 = plt.axes()\n",
    "ax1.plot(Cumulative_cases_3C['Days'],Ia1*2, label=\"I*2\")\n",
    "ax2.plot(Cumulative_cases_3C['Days'],Ia1/2, label=\"I/2\")\n",
    "ax1.title.set_text(\"I value for Greece wave 1\")\n",
    "plt.xlabel(\"Days\")\n",
    "plt.ylabel(\"Cummulative Cases\")\n",
    "ax1.legend(loc='upper left')"
   ]
  },
  {
   "cell_type": "code",
   "execution_count": 47,
   "id": "35af91f4",
   "metadata": {},
   "outputs": [
    {
     "name": "stdout",
     "output_type": "stream",
     "text": [
      "I(A3):  0.0001133035277060564\n",
      "R(A3):  0.0001366964722939436\n",
      "Sign(A3):  0.9997499999999999\n",
      "Sres(A3):  0\n"
     ]
    },
    {
     "data": {
      "image/png": "[encoded data removed]",
      "text/plain": [
       "<Figure size 432x288 with 4 Axes>"
      ]
     },
     "metadata": {
      "needs_background": "light"
     },
     "output_type": "display_data"
    }
   ],
   "source": [
    "R0_aa2 = Afghanistan / 10351401\n",
    "I0_aa2 = 0.000250 - R0_aa2\n",
    "S0_aa2 = 1 - I0_aa2 - R0_aa2\n",
    "S0res22 = 0\n",
    "ip=0.02\n",
    "#S0exh23 = 1-S0_aa3-S0res23-I0_aa3-R0_aa3\n",
    "print (\"I(A3): \", I0_aa2)\n",
    "print (\"R(A3): \", R0_aa2)\n",
    "print (\"Sign(A3): \", S0_aa2)\n",
    "print (\"Sres(A3): \", S0res22)\n",
    "#print (\"Sexh(A3): \", S0exh23)\n",
    "\n",
    "def deriv(ya2,t,b, a_a2,k2,k3,k6):\n",
    "    #Signa3,Sresa3,Sexha3,Ia3,Ra3 = ya3\n",
    "    S0_aa2,S0res22,I0_aa2,R0_aa2 = ya2\n",
    "\n",
    "    Sexha2 = 1 -ya2[0]-ya2[1]-ya2[2]-ya2[3]\n",
    "    dSigndt = -(a_a2*ya2[0]*ya2[2])-((k2/ip)*ya2[0]*(ya2[2]**2))+(k6*Sexha2)\n",
    "    dIdt = (a_a2*ya2[0]*ya2[2])+(a_a2*Sexha2*ya2[2])-(b*ya2[2])\n",
    "    dRdt = b*ya2[2]\n",
    "    dSresdt = ((k2/ip)*ya2[0]*(ya2[2]**2))-(k3*ya2[1])\n",
    "    #dSexhdt = (k3*S0res23)-(a_a3*S0exh23*ia3)-(k6*S0exh23)\n",
    "    return [dSigndt, dSresdt, dIdt,dRdt]\n",
    "t = np.linspace(0, 180, 527)\n",
    "x_initial = S0_aa2,S0res22,I0_aa2, R0_aa2\n",
    "sola2 = odeint(deriv, x_initial, t, args=(b, a_a2,k2,k3,k6))\n",
    "Signa2,Sresa2,Ia2,Ra2 = sola2.T\n",
    "da21 = pd.DataFrame(Signa2)\n",
    "da22 = pd.DataFrame(Sresa2)\n",
    "da24 = pd.DataFrame(Ia2)\n",
    "da25 = pd.DataFrame(Ra2)\n",
    "Afghanisthan_w2 = pd.concat([da21, da22,da24,da25], axis=1)\n",
    "Afghanisthan_w2.columns = ['Sign','Sres','I','R']\n",
    "Afghanisthan_w2\n",
    "figure, axes = plt.subplots(nrows=2, ncols=2)\n",
    "\n",
    "axes[0, 0].plot(Cumulative_cases_3C['Days'], Cumulative_cases_3C['Afghanistan_CC'],color='b')\n",
    "\n",
    "axes[0, 1].plot(Cumulative_cases_3C['Days'], Signa2,color='y')\n",
    "axes[1, 0].plot(Cumulative_cases_3C['Days'], Sresa2,color='r')\n",
    "axes[1, 1].plot(Cumulative_cases_3C['Days'],1 -Signa2-Sresa2-Ia2-Ra2,color='g')\n",
    "plt.xlabel(\"Common X-Axis\")\n",
    "plt.ylabel(\"Common Y-Axis\")\n",
    "axes[0, 0].title.set_text(\"Observed\")\n",
    "axes[0, 1].title.set_text(\"Sign\")\n",
    "axes[1, 0].title.set_text(\"Sres\")\n",
    "axes[1, 1].title.set_text(\"Sexp\")\n"
   ]
  },
  {
   "cell_type": "code",
   "execution_count": 48,
   "id": "076cd209",
   "metadata": {},
   "outputs": [
    {
     "name": "stderr",
     "output_type": "stream",
     "text": [
      "<ipython-input-48-17de17c51cba>:2: MatplotlibDeprecationWarning: Adding an axes using the same arguments as a previous axes currently reuses the earlier instance.  In a future version, a new instance will always be created and returned.  Meanwhile, this warning can be suppressed, and the future behavior ensured, by passing a unique label to each axes instance.\n",
      "  ax2 = plt.axes()\n"
     ]
    },
    {
     "data": {
      "text/plain": [
       "<matplotlib.legend.Legend at 0x7fcff289e880>"
      ]
     },
     "execution_count": 48,
     "metadata": {},
     "output_type": "execute_result"
    },
    {
     "data": {
      "image/png": "[encoded data removed]",
      "text/plain": [
       "<Figure size 432x288 with 1 Axes>"
      ]
     },
     "metadata": {
      "needs_background": "light"
     },
     "output_type": "display_data"
    }
   ],
   "source": [
    "ax1 = plt.axes() \n",
    "ax2 = plt.axes()\n",
    "ax1.plot(Cumulative_cases_3C['Days'],Ia2*2, label=\"I*2\")\n",
    "ax2.plot(Cumulative_cases_3C['Days'],Ia2/2, label=\"I/2\")\n",
    "ax1.title.set_text(\"I value for Greece wave 2\")\n",
    "plt.xlabel(\"Days\")\n",
    "plt.ylabel(\"Cummulative Cases\")\n",
    "ax1.legend(loc='upper left')"
   ]
  },
  {
   "cell_type": "code",
   "execution_count": 49,
   "id": "7d0c88b0",
   "metadata": {},
   "outputs": [
    {
     "name": "stdout",
     "output_type": "stream",
     "text": [
      "I(A3):  6.430352770605641e-05\n",
      "R(A3):  0.0001366964722939436\n",
      "Sign(A3):  0.999799\n",
      "Sres(A3):  0\n"
     ]
    },
    {
     "data": {
      "image/png": "[encoded data removed]",
      "text/plain": [
       "<Figure size 432x288 with 4 Axes>"
      ]
     },
     "metadata": {
      "needs_background": "light"
     },
     "output_type": "display_data"
    }
   ],
   "source": [
    "R0_aa3 = Afghanistan / 10351401\n",
    "I0_aa3 = 0.000201 - R0_aa3\n",
    "S0_aa3 = 1 - I0_aa3 - R0_aa3\n",
    "S0res23 = 0\n",
    "ip=0.02\n",
    "#S0exh23 = 1-S0_aa3-S0res23-I0_aa3-R0_aa3\n",
    "print (\"I(A3): \", I0_aa3)\n",
    "print (\"R(A3): \", R0_aa3)\n",
    "print (\"Sign(A3): \", S0_aa3)\n",
    "print (\"Sres(A3): \", S0res23)\n",
    "#print (\"Sexh(A3): \", S0exh23)\n",
    "def deriv(ya3,t,b, a_a3,k2,k3,k6):\n",
    "    #Signa3,Sresa3,Sexha3,Ia3,Ra3 = ya3\n",
    "    S0_aa3,S0res23,I0_aa3,R0_aa3 = ya3\n",
    "\n",
    "    Sexha3 = 1 -ya3[0]-ya3[1]-ya3[2]-ya3[3]\n",
    "    dSigndt = -(a_a3*ya3[0]*ya3[2])-((k2/ip)*ya3[0]*(ya3[2]**2))+(k6*Sexha3)\n",
    "    dIdt = (a_a3*ya3[0]*ya3[2])+(a_a3*Sexha3*ya3[2])-(b*ya3[2])\n",
    "    dRdt = b*ya3[2]\n",
    "    dSresdt = ((k2/ip)*ya3[0]*(ya3[2]**2))-(k3*ya3[1])\n",
    "    #dSexhdt = (k3*S0res23)-(a_a3*S0exh23*ia3)-(k6*S0exh23)\n",
    "    return [dSigndt, dSresdt, dIdt,dRdt]\n",
    "t = np.linspace(0, 180, 527)\n",
    "x_initial = S0_aa3,S0res23,I0_aa3, R0_aa3\n",
    "sola3 = odeint(deriv, x_initial, t, args=(b, a_a3,k2,k3,k6))\n",
    "Signa3,Sresa3,Ia3,Ra3 = sola3.T\n",
    "da31 = pd.DataFrame(Signa3)\n",
    "da32 = pd.DataFrame(Sresa3)\n",
    "da34 = pd.DataFrame(Ia3)\n",
    "da35 = pd.DataFrame(Ra3)\n",
    "Afghanisthan_w3 = pd.concat([da31, da32,da34,da35], axis=1)\n",
    "Afghanisthan_w3.columns = ['Sign','Sres','I','R']\n",
    "\n",
    "Afghanisthan_w3\n",
    "figure, axes = plt.subplots(nrows=2, ncols=2)\n",
    "\n",
    "axes[0, 0].plot(Cumulative_cases_3C['Days'], Cumulative_cases_3C['Afghanistan_CC'],color='b')\n",
    "\n",
    "axes[0, 1].plot(Cumulative_cases_3C['Days'], Signa3,color='y')\n",
    "axes[1, 0].plot(Cumulative_cases_3C['Days'], Sresa3,color='r')\n",
    "axes[1, 1].plot(Cumulative_cases_3C['Days'],1 -Signa3-Sresa3-Ia3-Ra3,color='g')\n",
    "plt.xlabel(\"Common X-Axis\")\n",
    "plt.ylabel(\"Common Y-Axis\")\n",
    "axes[0, 0].title.set_text(\"Observed\")\n",
    "axes[0, 1].title.set_text(\"Sign\")\n",
    "axes[1, 0].title.set_text(\"Sres\")\n",
    "axes[1, 1].title.set_text(\"Sexp\")\n"
   ]
  },
  {
   "cell_type": "code",
   "execution_count": 50,
   "id": "ffb178c1",
   "metadata": {},
   "outputs": [
    {
     "name": "stderr",
     "output_type": "stream",
     "text": [
      "<ipython-input-50-b76329f5b22a>:2: MatplotlibDeprecationWarning: Adding an axes using the same arguments as a previous axes currently reuses the earlier instance.  In a future version, a new instance will always be created and returned.  Meanwhile, this warning can be suppressed, and the future behavior ensured, by passing a unique label to each axes instance.\n",
      "  ax2 = plt.axes()\n"
     ]
    },
    {
     "data": {
      "text/plain": [
       "<matplotlib.legend.Legend at 0x7fd020a79040>"
      ]
     },
     "execution_count": 50,
     "metadata": {},
     "output_type": "execute_result"
    },
    {
     "data": {
      "image/png": "[encoded data removed]",
      "text/plain": [
       "<Figure size 432x288 with 1 Axes>"
      ]
     },
     "metadata": {
      "needs_background": "light"
     },
     "output_type": "display_data"
    }
   ],
   "source": [
    "ax1 = plt.axes()\n",
    "ax2 = plt.axes()\n",
    "ax1.plot(Cumulative_cases_3C['Days'],Ia3*2, label=\"I*2\")\n",
    "ax2.plot(Cumulative_cases_3C['Days'],Ia3/2, label=\"I/2\")\n",
    "ax1.title.set_text(\"I value for Greece wave 3\")\n",
    "plt.xlabel(\"Days\")\n",
    "plt.ylabel(\"Cummulative Cases\")\n",
    "ax1.legend(loc='upper left')"
   ]
  },
  {
   "cell_type": "code",
   "execution_count": null,
   "id": "b2c03dee",
   "metadata": {},
   "outputs": [],
   "source": []
  },
  {
   "cell_type": "code",
   "execution_count": null,
   "id": "40cf61b2",
   "metadata": {},
   "outputs": [],
   "source": []
  }
 ],
 "metadata": {
  "kernelspec": {
   "display_name": "Python 3",
   "language": "python",
   "name": "python3"
  },
  "language_info": {
   "codemirror_mode": {
    "name": "ipython",
    "version": 3
   },
   "file_extension": ".py",
   "mimetype": "text/x-python",
   "name": "python",
   "nbconvert_exporter": "python",
   "pygments_lexer": "ipython3",
   "version": "3.8.8"
  }
 },
 "nbformat": 4,
 "nbformat_minor": 5
}
